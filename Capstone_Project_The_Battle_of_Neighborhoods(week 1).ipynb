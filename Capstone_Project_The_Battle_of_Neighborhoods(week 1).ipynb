{
  "nbformat": 4,
  "nbformat_minor": 0,
  "metadata": {
    "colab": {
      "name": "Capstone Project - The Battle of Neighborhoods",
      "provenance": [],
      "collapsed_sections": [],
      "authorship_tag": "ABX9TyOyqqZ0JiCSDhHdX2IUzsj2",
      "include_colab_link": true
    },
    "kernelspec": {
      "name": "python3",
      "display_name": "Python 3"
    }
  },
  "cells": [
    {
      "cell_type": "markdown",
      "metadata": {
        "id": "view-in-github",
        "colab_type": "text"
      },
      "source": [
        "<a href=\"https://colab.research.google.com/github/vinaysoma100/Coursera_Capstone/blob/master/Capstone_Project_The_Battle_of_Neighborhoods(week%201).ipynb\" target=\"_parent\"><img src=\"https://colab.research.google.com/assets/colab-badge.svg\" alt=\"Open In Colab\"/></a>"
      ]
    },
    {
      "cell_type": "markdown",
      "metadata": {
        "id": "KEuchuwCw9SE",
        "colab_type": "text"
      },
      "source": [
        "1.Introduction: Theatre opening in new delhi\n",
        "\n",
        "In such a large and rich city ,new delhi,india, it will be competitive to start up business. in this project  we will just discuss about predicting hot spot"
      ]
    },
    {
      "cell_type": "code",
      "metadata": {
        "id": "CELqulL4leCG",
        "colab_type": "code",
        "colab": {
          "base_uri": "https://localhost:8080/",
          "height": 204
        },
        "outputId": "f2a517bd-4f3a-4493-b5bd-07aaa275e6fd"
      },
      "source": [
        "import requests # library to handle requests\n",
        "import pandas as pd # library for data analsysis\n",
        "import numpy as np\n",
        "!pip install folium\n",
        "import folium "
      ],
      "execution_count": 1,
      "outputs": [
        {
          "output_type": "stream",
          "text": [
            "Requirement already satisfied: folium in /usr/local/lib/python3.6/dist-packages (0.8.3)\n",
            "Requirement already satisfied: branca>=0.3.0 in /usr/local/lib/python3.6/dist-packages (from folium) (0.4.1)\n",
            "Requirement already satisfied: six in /usr/local/lib/python3.6/dist-packages (from folium) (1.15.0)\n",
            "Requirement already satisfied: requests in /usr/local/lib/python3.6/dist-packages (from folium) (2.23.0)\n",
            "Requirement already satisfied: numpy in /usr/local/lib/python3.6/dist-packages (from folium) (1.18.5)\n",
            "Requirement already satisfied: jinja2 in /usr/local/lib/python3.6/dist-packages (from folium) (2.11.2)\n",
            "Requirement already satisfied: idna<3,>=2.5 in /usr/local/lib/python3.6/dist-packages (from requests->folium) (2.10)\n",
            "Requirement already satisfied: certifi>=2017.4.17 in /usr/local/lib/python3.6/dist-packages (from requests->folium) (2020.6.20)\n",
            "Requirement already satisfied: urllib3!=1.25.0,!=1.25.1,<1.26,>=1.21.1 in /usr/local/lib/python3.6/dist-packages (from requests->folium) (1.24.3)\n",
            "Requirement already satisfied: chardet<4,>=3.0.2 in /usr/local/lib/python3.6/dist-packages (from requests->folium) (3.0.4)\n",
            "Requirement already satisfied: MarkupSafe>=0.23 in /usr/local/lib/python3.6/dist-packages (from jinja2->folium) (1.1.1)\n"
          ],
          "name": "stdout"
        }
      ]
    },
    {
      "cell_type": "markdown",
      "metadata": {
        "id": "VMm6BqQbxk_V",
        "colab_type": "text"
      },
      "source": [
        "2.First of all we need to collect Data\n"
      ]
    },
    {
      "cell_type": "markdown",
      "metadata": {
        "id": "5RKfMad_xyw8",
        "colab_type": "text"
      },
      "source": [
        "3.We import all the tools we need."
      ]
    },
    {
      "cell_type": "markdown",
      "metadata": {
        "id": "3R8oojO4yEUA",
        "colab_type": "text"
      },
      "source": [
        "Apply your credential ID on [FourSquare]"
      ]
    },
    {
      "cell_type": "code",
      "metadata": {
        "id": "KhP_J0hKl-lq",
        "colab_type": "code",
        "colab": {
          "base_uri": "https://localhost:8080/",
          "height": 68
        },
        "outputId": "0c6bc482-c1c8-47d8-8253-178d16f9592a"
      },
      "source": [
        "CLIENT_ID = 'your Foursquare ID' # your Foursquare ID\n",
        "CLIENT_SECRET = 'your Foursquare Secret' # your Foursquare Secret\n",
        "VERSION = '20180604'\n",
        "LIMIT = 40\n",
        "print('Your credentails:')\n",
        "print('CLIENT_ID: ' + CLIENT_ID)\n",
        "print('CLIENT_SECRET:' + CLIENT_SECRET)"
      ],
      "execution_count": 36,
      "outputs": [
        {
          "output_type": "stream",
          "text": [
            "Your credentails:\n",
            "CLIENT_ID: your Foursquare ID\n",
            "CLIENT_SECRET:your Foursquare Secret\n"
          ],
          "name": "stdout"
        }
      ]
    },
    {
      "cell_type": "markdown",
      "metadata": {
        "id": "SvZxihUwyMCl",
        "colab_type": "text"
      },
      "source": [
        "Get requests near new delhi"
      ]
    },
    {
      "cell_type": "code",
      "metadata": {
        "id": "2By7SOxrmIMI",
        "colab_type": "code",
        "colab": {}
      },
      "source": [
        "import requests\n",
        "\n",
        "request_parameters = {\n",
        "    \"client_id\": CLIENT_ID,\n",
        "    \"client_secret\": CLIENT_SECRET,\n",
        "    \"v\": '20180605',\n",
        "    \"section\": \"theater\",\n",
        "    \"near\": \"new delhi\",\n",
        "    \"radius\": 1000,\n",
        "    \"limit\": 100}\n",
        "\n",
        "data = requests.get(\"https://api.foursquare.com/v2/venues/explore\", params=request_parameters)"
      ],
      "execution_count": 16,
      "outputs": []
    },
    {
      "cell_type": "markdown",
      "metadata": {
        "id": "I2Fdu_23yUq1",
        "colab_type": "text"
      },
      "source": [
        "Transform data into json then request geocode."
      ]
    },
    {
      "cell_type": "code",
      "metadata": {
        "id": "FY7WQSAEm8G1",
        "colab_type": "code",
        "colab": {
          "base_uri": "https://localhost:8080/",
          "height": 34
        },
        "outputId": "9092bb69-6f64-4174-bae4-dbba54456c78"
      },
      "source": [
        "d = data.json()[\"response\"]\n",
        "d.keys()\n"
      ],
      "execution_count": 37,
      "outputs": [
        {
          "output_type": "execute_result",
          "data": {
            "text/plain": [
              "dict_keys(['suggestedFilters', 'geocode', 'headerLocation', 'headerFullLocation', 'headerLocationGranularity', 'totalResults', 'suggestedBounds', 'groups'])"
            ]
          },
          "metadata": {
            "tags": []
          },
          "execution_count": 37
        }
      ]
    },
    {
      "cell_type": "code",
      "metadata": {
        "id": "gp8LYN_NnEVQ",
        "colab_type": "code",
        "colab": {
          "base_uri": "https://localhost:8080/",
          "height": 34
        },
        "outputId": "fa5db378-ab3e-473c-867e-13511b42a157"
      },
      "source": [
        "d[\"headerLocationGranularity\"], d[\"headerLocation\"], d[\"headerFullLocation\"]"
      ],
      "execution_count": 18,
      "outputs": [
        {
          "output_type": "execute_result",
          "data": {
            "text/plain": [
              "('city', 'New Delhi', 'New Delhi')"
            ]
          },
          "metadata": {
            "tags": []
          },
          "execution_count": 18
        }
      ]
    },
    {
      "cell_type": "code",
      "metadata": {
        "id": "_o8KMpfvnZ-m",
        "colab_type": "code",
        "colab": {
          "base_uri": "https://localhost:8080/",
          "height": 68
        },
        "outputId": "f7137dd3-cca9-4fc3-ccf6-20adf8129826"
      },
      "source": [
        "d[\"suggestedBounds\"], d[\"totalResults\"]"
      ],
      "execution_count": 19,
      "outputs": [
        {
          "output_type": "execute_result",
          "data": {
            "text/plain": [
              "({'ne': {'lat': 28.64350044264776, 'lng': 77.23157336581968},\n",
              "  'sw': {'lat': 28.62745985200316, 'lng': 77.21531534538968}},\n",
              " 75)"
            ]
          },
          "metadata": {
            "tags": []
          },
          "execution_count": 19
        }
      ]
    },
    {
      "cell_type": "code",
      "metadata": {
        "id": "Xhj8MZShnzCH",
        "colab_type": "code",
        "colab": {
          "base_uri": "https://localhost:8080/",
          "height": 170
        },
        "outputId": "14a35e53-bebb-4536-fcfa-cd8c50f0684d"
      },
      "source": [
        "d[\"geocode\"]"
      ],
      "execution_count": 20,
      "outputs": [
        {
          "output_type": "execute_result",
          "data": {
            "text/plain": [
              "{'cc': 'IN',\n",
              " 'center': {'lat': 28.63576, 'lng': 77.22445},\n",
              " 'displayString': 'New Delhi, National Capital Territory of Delhi, India',\n",
              " 'geometry': {'bounds': {'ne': {'lat': 28.883565, 'lng': 77.346493},\n",
              "   'sw': {'lat': 28.404122, 'lng': 76.838878}}},\n",
              " 'longId': '72057594039189417',\n",
              " 'slug': 'new-delhi-india',\n",
              " 'what': '',\n",
              " 'where': 'new delhi'}"
            ]
          },
          "metadata": {
            "tags": []
          },
          "execution_count": 20
        }
      ]
    },
    {
      "cell_type": "markdown",
      "metadata": {
        "id": "nN7m-J34yf3U",
        "colab_type": "text"
      },
      "source": [
        "We start creating group including information which is recommended."
      ]
    },
    {
      "cell_type": "code",
      "metadata": {
        "id": "6Bj6H3GYoBbO",
        "colab_type": "code",
        "colab": {
          "base_uri": "https://localhost:8080/",
          "height": 34
        },
        "outputId": "d6c639c4-ff77-4820-e112-a6ad95698ebe"
      },
      "source": [
        "d[\"groups\"][0].keys()"
      ],
      "execution_count": 22,
      "outputs": [
        {
          "output_type": "execute_result",
          "data": {
            "text/plain": [
              "dict_keys(['type', 'name', 'items'])"
            ]
          },
          "metadata": {
            "tags": []
          },
          "execution_count": 22
        }
      ]
    },
    {
      "cell_type": "code",
      "metadata": {
        "id": "hKkrgmiaoN7j",
        "colab_type": "code",
        "colab": {
          "base_uri": "https://localhost:8080/",
          "height": 34
        },
        "outputId": "a98c36f0-c9c3-46c6-8bca-0a996d24d4c0"
      },
      "source": [
        "d[\"groups\"][0][\"type\"], d[\"groups\"][0][\"name\"]"
      ],
      "execution_count": 23,
      "outputs": [
        {
          "output_type": "execute_result",
          "data": {
            "text/plain": [
              "('Recommended Places', 'recommended')"
            ]
          },
          "metadata": {
            "tags": []
          },
          "execution_count": 23
        }
      ]
    },
    {
      "cell_type": "markdown",
      "metadata": {
        "id": "xLopUiovyn7K",
        "colab_type": "text"
      },
      "source": [
        "Creating items of objects  shop and their attributes - id, address, name, etc"
      ]
    },
    {
      "cell_type": "code",
      "metadata": {
        "id": "zgWI4_h5oZu1",
        "colab_type": "code",
        "colab": {
          "base_uri": "https://localhost:8080/",
          "height": 544
        },
        "outputId": "7a3d3e96-de54-46da-c4bb-afccd160a4d0"
      },
      "source": [
        "items = d[\"groups\"][0][\"items\"]\n",
        "print(\"number of items: %i\" % len(items))\n",
        "items[0]"
      ],
      "execution_count": 25,
      "outputs": [
        {
          "output_type": "stream",
          "text": [
            "number of items: 75\n"
          ],
          "name": "stdout"
        },
        {
          "output_type": "execute_result",
          "data": {
            "text/plain": [
              "{'reasons': {'count': 0,\n",
              "  'items': [{'reasonName': 'globalInteractionReason',\n",
              "    'summary': 'This spot is popular',\n",
              "    'type': 'general'}]},\n",
              " 'referralId': 'e-0-54783eab498e910f8bd1781d-0',\n",
              " 'venue': {'categories': [{'icon': {'prefix': 'https://ss3.4sqi.net/img/categories_v2/food/icecream_',\n",
              "     'suffix': '.png'},\n",
              "    'id': '4bf58dd8d48988d1c9941735',\n",
              "    'name': 'Ice Cream Shop',\n",
              "    'pluralName': 'Ice Cream Shops',\n",
              "    'primary': True,\n",
              "    'shortName': 'Ice Cream'}],\n",
              "  'id': '54783eab498e910f8bd1781d',\n",
              "  'location': {'address': 'L Block Outer Circle',\n",
              "   'cc': 'IN',\n",
              "   'city': 'New Delhi',\n",
              "   'country': 'India',\n",
              "   'crossStreet': 'Connaught Place',\n",
              "   'formattedAddress': ['L Block Outer Circle (Connaught Place)',\n",
              "    'New Delhi',\n",
              "    'Delhi',\n",
              "    'India'],\n",
              "   'labeledLatLngs': [{'label': 'display',\n",
              "     'lat': 28.634455305513185,\n",
              "     'lng': 77.22213885818994}],\n",
              "   'lat': 28.634455305513185,\n",
              "   'lng': 77.22213885818994,\n",
              "   'state': 'Delhi'},\n",
              "  'name': 'Naturals Ice Cream',\n",
              "  'photos': {'count': 0, 'groups': []}}}"
            ]
          },
          "metadata": {
            "tags": []
          },
          "execution_count": 25
        }
      ]
    },
    {
      "cell_type": "code",
      "metadata": {
        "id": "IGOgMo2fpBKD",
        "colab_type": "code",
        "colab": {
          "base_uri": "https://localhost:8080/",
          "height": 527
        },
        "outputId": "09e80999-bca6-4af8-eceb-165546d58592"
      },
      "source": [
        "items[1]"
      ],
      "execution_count": 26,
      "outputs": [
        {
          "output_type": "execute_result",
          "data": {
            "text/plain": [
              "{'reasons': {'count': 0,\n",
              "  'items': [{'reasonName': 'globalInteractionReason',\n",
              "    'summary': 'This spot is popular',\n",
              "    'type': 'general'}]},\n",
              " 'referralId': 'e-0-4cb876d7f50e224bd2d6e6fb-1',\n",
              " 'venue': {'categories': [{'icon': {'prefix': 'https://ss3.4sqi.net/img/categories_v2/food/indian_',\n",
              "     'suffix': '.png'},\n",
              "    'id': '4bf58dd8d48988d10f941735',\n",
              "    'name': 'Indian Restaurant',\n",
              "    'pluralName': 'Indian Restaurants',\n",
              "    'primary': True,\n",
              "    'shortName': 'Indian'}],\n",
              "  'id': '4cb876d7f50e224bd2d6e6fb',\n",
              "  'location': {'address': 'K Block',\n",
              "   'cc': 'IN',\n",
              "   'city': 'New Delhi',\n",
              "   'country': 'India',\n",
              "   'crossStreet': 'Connaught Place',\n",
              "   'formattedAddress': ['K Block (Connaught Place)',\n",
              "    'New Delhi',\n",
              "    'Delhi',\n",
              "    'India'],\n",
              "   'labeledLatLngs': [{'label': 'display',\n",
              "     'lat': 28.635487253836967,\n",
              "     'lng': 77.22064969494076}],\n",
              "   'lat': 28.635487253836967,\n",
              "   'lng': 77.22064969494076,\n",
              "   'state': 'Delhi'},\n",
              "  'name': 'Sagar Ratna',\n",
              "  'photos': {'count': 0, 'groups': []}}}"
            ]
          },
          "metadata": {
            "tags": []
          },
          "execution_count": 26
        }
      ]
    },
    {
      "cell_type": "markdown",
      "metadata": {
        "id": "7C8GNE-DzFhw",
        "colab_type": "text"
      },
      "source": [
        "From the output we can identify necessary factors of what we will use later to consider the probability of launching our up-to-coming location."
      ]
    },
    {
      "cell_type": "markdown",
      "metadata": {
        "id": "L_hLzinezNgR",
        "colab_type": "text"
      },
      "source": [
        "Based on that we start to organize what we have got."
      ]
    },
    {
      "cell_type": "code",
      "metadata": {
        "id": "OFutBkjqpE1e",
        "colab_type": "code",
        "colab": {
          "base_uri": "https://localhost:8080/",
          "height": 1000
        },
        "outputId": "1ab38ade-d8cb-4407-a1c6-96e44ceeeea8"
      },
      "source": [
        "df_raw = []\n",
        "for item in items:\n",
        "    venue = item[\"venue\"]\n",
        "    categories, uid, name, location = venue[\"categories\"], venue[\"id\"], venue[\"name\"], venue[\"location\"]\n",
        "    print(location)\n",
        "    assert len(categories) == 1\n",
        "    shortname = categories[0][\"shortName\"]\n",
        "    address =  ''\n",
        "    if hasattr(location, 'address'):\n",
        "      address = location['address']\n",
        "    if not \"postalCode\" in location:\n",
        "        continue\n",
        "    postalcode = location[\"postalCode\"]\n",
        "    lat = location[\"lat\"]\n",
        "    lng = location[\"lng\"]\n",
        "    datarow = (uid, name, shortname, address, postalcode, lat, lng)\n",
        "    df_raw.append(datarow)\n",
        "df = pd.DataFrame(df_raw, columns=[\"uid\", \"name\", \"shortname\", \"address\", \"postalcode\", \"lat\", \"lng\"])\n",
        "print(\"found %i theaters\" % len(df))\n",
        "df.head()"
      ],
      "execution_count": 27,
      "outputs": [
        {
          "output_type": "stream",
          "text": [
            "{'address': 'L Block Outer Circle', 'crossStreet': 'Connaught Place', 'lat': 28.634455305513185, 'lng': 77.22213885818994, 'labeledLatLngs': [{'label': 'display', 'lat': 28.634455305513185, 'lng': 77.22213885818994}], 'cc': 'IN', 'city': 'New Delhi', 'state': 'Delhi', 'country': 'India', 'formattedAddress': ['L Block Outer Circle (Connaught Place)', 'New Delhi', 'Delhi', 'India']}\n",
            "{'address': 'K Block', 'crossStreet': 'Connaught Place', 'lat': 28.635487253836967, 'lng': 77.22064969494076, 'labeledLatLngs': [{'label': 'display', 'lat': 28.635487253836967, 'lng': 77.22064969494076}], 'cc': 'IN', 'city': 'New Delhi', 'state': 'Delhi', 'country': 'India', 'formattedAddress': ['K Block (Connaught Place)', 'New Delhi', 'Delhi', 'India']}\n",
            "{'address': 'D-3', 'crossStreet': 'Near BIG Odeon Cinema', 'lat': 28.634202294199614, 'lng': 77.22077980678422, 'labeledLatLngs': [{'label': 'display', 'lat': 28.634202294199614, 'lng': 77.22077980678422}], 'postalCode': '110001', 'cc': 'IN', 'city': 'New Delhi', 'state': 'Delhi', 'country': 'India', 'formattedAddress': ['D-3 (Near BIG Odeon Cinema)', 'New Delhi 110001', 'Delhi', 'India']}\n",
            "{'address': 'Connaught Place', 'crossStreet': 'Many streets meet here', 'lat': 28.6327309443951, 'lng': 77.22001768275413, 'labeledLatLngs': [{'label': 'display', 'lat': 28.6327309443951, 'lng': 77.22001768275413}], 'postalCode': '110001', 'cc': 'IN', 'city': 'New Delhi', 'state': 'Delhi', 'country': 'India', 'formattedAddress': ['Connaught Place (Many streets meet here)', 'New Delhi 110001', 'Delhi', 'India']}\n",
            "{'lat': 28.63434534341854, 'lng': 77.22139870930441, 'labeledLatLngs': [{'label': 'display', 'lat': 28.63434534341854, 'lng': 77.22139870930441}], 'cc': 'IN', 'country': 'India', 'formattedAddress': ['India']}\n",
            "{'crossStreet': 'Connaught Place', 'lat': 28.634073264989183, 'lng': 77.22264498769991, 'labeledLatLngs': [{'label': 'display', 'lat': 28.634073264989183, 'lng': 77.22264498769991}], 'cc': 'IN', 'city': 'New Delhi', 'state': 'Delhi', 'country': 'India', 'formattedAddress': ['Connaught Place', 'New Delhi', 'Delhi', 'India']}\n",
            "{'address': 'Connaught Place', 'crossStreet': 'Inner Circle D Block', 'lat': 28.633775293123456, 'lng': 77.22101540430111, 'labeledLatLngs': [{'label': 'display', 'lat': 28.633775293123456, 'lng': 77.22101540430111}], 'cc': 'IN', 'city': 'New Delhi', 'state': 'Delhi', 'country': 'India', 'formattedAddress': ['Connaught Place (Inner Circle D Block)', 'New Delhi', 'Delhi', 'India']}\n",
            "{'address': '23, First Floor, Odeon Building, Radial Road 5, D Block', 'lat': 28.634414197963707, 'lng': 77.22093550978948, 'labeledLatLngs': [{'label': 'display', 'lat': 28.634414197963707, 'lng': 77.22093550978948}], 'cc': 'IN', 'city': 'New Delhi', 'state': 'Delhi', 'country': 'India', 'formattedAddress': ['23, First Floor, Odeon Building, Radial Road 5, D Block', 'New Delhi', 'Delhi', 'India']}\n",
            "{'address': 'Level 1, Block E, 38/39, Inner circle, Connaught Place, New Delhi', 'lat': 28.632580798842707, 'lng': 77.22112484247755, 'labeledLatLngs': [{'label': 'display', 'lat': 28.632580798842707, 'lng': 77.22112484247755}], 'cc': 'IN', 'city': 'New Delhi', 'state': 'Delhi', 'country': 'India', 'formattedAddress': ['Level 1, Block E, 38/39, Inner circle, Connaught Place, New Delhi', 'New Delhi', 'Delhi', 'India']}\n",
            "{'address': 'K 2, Middle Circle, Connaught Place', 'crossStreet': 'Near PVR Plaza', 'lat': 28.63488981038038, 'lng': 77.22022508672842, 'labeledLatLngs': [{'label': 'display', 'lat': 28.63488981038038, 'lng': 77.22022508672842}], 'postalCode': '110001', 'cc': 'IN', 'city': 'New Delhi', 'state': 'Delhi', 'country': 'India', 'formattedAddress': ['K 2, Middle Circle, Connaught Place (Near PVR Plaza)', 'New Delhi 110001', 'Delhi', 'India']}\n",
            "{'address': 'H 5 & 6, Plaza Building, Middle Circle, Connaught Place', 'crossStreet': 'Opposite Castle 9 (Inner Lane)', 'lat': 28.634857957123064, 'lng': 77.21946245007211, 'labeledLatLngs': [{'label': 'display', 'lat': 28.634857957123064, 'lng': 77.21946245007211}], 'postalCode': '110001', 'cc': 'IN', 'city': 'New Delhi', 'state': 'Delhi', 'country': 'India', 'formattedAddress': ['H 5 & 6, Plaza Building, Middle Circle, Connaught Place (Opposite Castle 9 (Inner Lane))', 'New Delhi 110001', 'Delhi', 'India']}\n",
            "{'address': 'A 16, Inner Circle, Connaught Place', 'crossStreet': 'Connaught Place', 'lat': 28.633411895746676, 'lng': 77.21829192902194, 'labeledLatLngs': [{'label': 'display', 'lat': 28.633411895746676, 'lng': 77.21829192902194}], 'postalCode': '110001', 'cc': 'IN', 'city': 'New Delhi', 'state': 'Delhi', 'country': 'India', 'formattedAddress': ['A 16, Inner Circle, Connaught Place (Connaught Place)', 'New Delhi 110001', 'Delhi', 'India']}\n",
            "{'address': 'E 15, Inner Circle, Connaught Place', 'lat': 28.63247672337289, 'lng': 77.2211199789975, 'labeledLatLngs': [{'label': 'display', 'lat': 28.63247672337289, 'lng': 77.2211199789975}], 'postalCode': '110001', 'cc': 'IN', 'city': 'New Delhi', 'state': 'Delhi', 'country': 'India', 'formattedAddress': ['E 15, Inner Circle, Connaught Place', 'New Delhi 110001', 'Delhi', 'India']}\n",
            "{'address': 'A Block, Connaught Place', 'crossStreet': 'Hamilton House', 'lat': 28.632010831148985, 'lng': 77.21773135560126, 'labeledLatLngs': [{'label': 'display', 'lat': 28.632010831148985, 'lng': 77.21773135560126}], 'cc': 'IN', 'city': 'New Delhi', 'state': 'Delhi', 'country': 'India', 'formattedAddress': ['A Block, Connaught Place (Hamilton House)', 'New Delhi', 'Delhi', 'India']}\n",
            "{'address': 'F block', 'crossStreet': 'Inner Circle, CP', 'lat': 28.631628538643216, 'lng': 77.22036426182864, 'labeledLatLngs': [{'label': 'display', 'lat': 28.631628538643216, 'lng': 77.22036426182864}], 'cc': 'IN', 'neighborhood': 'N.D. Charge 1', 'city': 'New Delhi', 'state': 'Delhi', 'country': 'India', 'formattedAddress': ['F block (Inner Circle, CP)', 'New Delhi', 'Delhi', 'India']}\n",
            "{'lat': 28.633657990718326, 'lng': 77.21813923616, 'labeledLatLngs': [{'label': 'display', 'lat': 28.633657990718326, 'lng': 77.21813923616}], 'cc': 'IN', 'city': 'Delhi', 'state': 'Delhi', 'country': 'India', 'formattedAddress': ['Delhi', 'Delhi', 'India']}\n",
            "{'address': 'P-13/90, Connaught Circus', 'lat': 28.632319466435003, 'lng': 77.21644531748599, 'labeledLatLngs': [{'label': 'display', 'lat': 28.632319466435003, 'lng': 77.21644531748599}], 'postalCode': '110001', 'cc': 'IN', 'city': 'New Delhi', 'state': 'Delhi', 'country': 'India', 'formattedAddress': ['P-13/90, Connaught Circus', 'New Delhi 110001', 'Delhi', 'India']}\n",
            "{'address': 'Shop No. 9A, Atmaram Mansion, Scindia House, Connaught Circus, Connaught Place', 'crossStreet': 'Connaught Place', 'lat': 28.62999946326596, 'lng': 77.2204011327264, 'labeledLatLngs': [{'label': 'display', 'lat': 28.62999946326596, 'lng': 77.2204011327264}], 'postalCode': '110001', 'cc': 'IN', 'city': 'New Delhi', 'state': 'Delhi', 'country': 'India', 'formattedAddress': ['Shop No. 9A, Atmaram Mansion, Scindia House, Connaught Circus, Connaught Place (Connaught Place)', 'New Delhi 110001', 'Delhi', 'India']}\n",
            "{'address': 'B - 45, First Floor, Inner Circle', 'crossStreet': 'Connaught Place', 'lat': 28.634055048338602, 'lng': 77.21886681496603, 'labeledLatLngs': [{'label': 'display', 'lat': 28.634055048338602, 'lng': 77.21886681496603}], 'postalCode': '110001', 'cc': 'IN', 'city': 'New Delhi', 'state': 'Delhi', 'country': 'India', 'formattedAddress': ['B - 45, First Floor, Inner Circle (Connaught Place)', 'New Delhi 110001', 'Delhi', 'India']}\n",
            "{'address': 'Connaught Place', 'lat': 28.634233629735867, 'lng': 77.22079782501127, 'labeledLatLngs': [{'label': 'display', 'lat': 28.634233629735867, 'lng': 77.22079782501127}], 'cc': 'IN', 'city': 'New Delhi', 'state': 'Delhi', 'country': 'India', 'formattedAddress': ['Connaught Place', 'New Delhi', 'Delhi', 'India']}\n",
            "{'address': 'A-1 Hamilton House, Connaught Place', 'crossStreet': 'Connaught Place', 'lat': 28.63201193420627, 'lng': 77.21772910740421, 'labeledLatLngs': [{'label': 'display', 'lat': 28.63201193420627, 'lng': 77.21772910740421}], 'postalCode': '110001', 'cc': 'IN', 'city': 'New Delhi', 'state': 'Delhi', 'country': 'India', 'formattedAddress': ['A-1 Hamilton House, Connaught Place (Connaught Place)', 'New Delhi 110001', 'Delhi', 'India']}\n",
            "{'address': 'Outer Circle', 'crossStreet': 'Connaught Place', 'lat': 28.630457, 'lng': 77.219594, 'labeledLatLngs': [{'label': 'display', 'lat': 28.630457, 'lng': 77.219594}], 'cc': 'IN', 'city': 'New Delhi', 'state': 'Delhi', 'country': 'India', 'formattedAddress': ['Outer Circle (Connaught Place)', 'New Delhi', 'Delhi', 'India']}\n",
            "{'address': 'Connaught Place', 'crossStreet': 'Inner Circle, D Block.', 'lat': 28.63372638697029, 'lng': 77.22102407638606, 'labeledLatLngs': [{'label': 'display', 'lat': 28.63372638697029, 'lng': 77.22102407638606}], 'cc': 'IN', 'city': 'New Delhi', 'state': 'Delhi', 'country': 'India', 'formattedAddress': ['Connaught Place (Inner Circle, D Block.)', 'New Delhi', 'Delhi', 'India']}\n",
            "{'address': 'M 16', 'crossStreet': 'Connaught Place', 'lat': 28.632001527203066, 'lng': 77.22270642208512, 'labeledLatLngs': [{'label': 'display', 'lat': 28.632001527203066, 'lng': 77.22270642208512}], 'cc': 'IN', 'city': 'Delhi', 'state': 'Delhi', 'country': 'India', 'formattedAddress': ['M 16 (Connaught Place)', 'Delhi', 'Delhi', 'India']}\n",
            "{'address': 'Connaught Place', 'crossStreet': 'D Block, Inner Circle', 'lat': 28.633590069941445, 'lng': 77.22122128391564, 'labeledLatLngs': [{'label': 'display', 'lat': 28.633590069941445, 'lng': 77.22122128391564}], 'cc': 'IN', 'city': 'New Delhi', 'state': 'Delhi', 'country': 'India', 'formattedAddress': ['Connaught Place (D Block, Inner Circle)', 'New Delhi', 'Delhi', 'India']}\n",
            "{'address': 'Shivaji Stadium', 'crossStreet': 'Connaught Place', 'lat': 28.630052489085667, 'lng': 77.21764856709696, 'labeledLatLngs': [{'label': 'display', 'lat': 28.630052489085667, 'lng': 77.21764856709696}], 'postalCode': '110001', 'cc': 'IN', 'city': 'New Delhi', 'state': 'Delhi', 'country': 'India', 'formattedAddress': ['Shivaji Stadium (Connaught Place)', 'New Delhi 110001', 'Delhi', 'India']}\n",
            "{'address': '23, Ground Floor, Odeon Building, D Block', 'crossStreet': 'Radial Road 5, Connaught Place', 'lat': 28.633764, 'lng': 77.221405, 'labeledLatLngs': [{'label': 'display', 'lat': 28.633764, 'lng': 77.221405}], 'postalCode': '110001', 'cc': 'IN', 'city': 'New Delhi', 'state': 'Delhi', 'country': 'India', 'formattedAddress': ['23, Ground Floor, Odeon Building, D Block (Radial Road 5, Connaught Place)', 'New Delhi 110001', 'Delhi', 'India']}\n",
            "{'address': '28 Connaught Place', 'crossStreet': 'Kasturba Gandhi Marg', 'lat': 28.629663327072745, 'lng': 77.22183483476593, 'labeledLatLngs': [{'label': 'display', 'lat': 28.629663327072745, 'lng': 77.22183483476593}], 'cc': 'IN', 'city': 'New Delhi', 'state': 'Delhi', 'country': 'India', 'formattedAddress': ['28 Connaught Place (Kasturba Gandhi Marg)', 'New Delhi', 'Delhi', 'India']}\n",
            "{'address': 'K - 14, Outer Circle, Connaught Place', 'lat': 28.635506399668113, 'lng': 77.2206047835112, 'labeledLatLngs': [{'label': 'display', 'lat': 28.635506399668113, 'lng': 77.2206047835112}], 'postalCode': '110001', 'cc': 'IN', 'city': 'New Delhi', 'state': 'Delhi', 'country': 'India', 'formattedAddress': ['K - 14, Outer Circle, Connaught Place', 'New Delhi 110001', 'Delhi', 'India']}\n",
            "{'address': '81, N-Block, Outer Circle, Connaught Place', 'lat': 28.630920473614825, 'lng': 77.2221936228799, 'labeledLatLngs': [{'label': 'display', 'lat': 28.630920473614825, 'lng': 77.2221936228799}], 'postalCode': '110001', 'cc': 'IN', 'city': 'New Delhi', 'state': 'Delhi', 'country': 'India', 'formattedAddress': ['81, N-Block, Outer Circle, Connaught Place', 'New Delhi 110001', 'Delhi', 'India']}\n",
            "{'address': '96-98, 2nd Flr., Munshilal Building, N Block, Outer Circle, Connaught Place', 'lat': 28.63025338767433, 'lng': 77.22098501777461, 'labeledLatLngs': [{'label': 'display', 'lat': 28.63025338767433, 'lng': 77.22098501777461}], 'postalCode': '110001', 'cc': 'IN', 'city': 'New Delhi', 'state': 'Delhi', 'country': 'India', 'formattedAddress': ['96-98, 2nd Flr., Munshilal Building, N Block, Outer Circle, Connaught Place', 'New Delhi 110001', 'Delhi', 'India']}\n",
            "{'address': 'M Block', 'crossStreet': 'Outer Circle, Cannaught Place', 'lat': 28.631842130012696, 'lng': 77.2227521244348, 'labeledLatLngs': [{'label': 'display', 'lat': 28.631842130012696, 'lng': 77.2227521244348}], 'cc': 'IN', 'city': 'New Delhi', 'state': 'Delhi', 'country': 'India', 'formattedAddress': ['M Block (Outer Circle, Cannaught Place)', 'New Delhi', 'Delhi', 'India']}\n",
            "{'address': 'G-2/43, Middle Circle, Connaught Place', 'lat': 28.63240704948879, 'lng': 77.2173230839724, 'labeledLatLngs': [{'label': 'display', 'lat': 28.63240704948879, 'lng': 77.2173230839724}], 'postalCode': '110001', 'cc': 'IN', 'city': 'New Delhi', 'state': 'Delhi', 'country': 'India', 'formattedAddress': ['G-2/43, Middle Circle, Connaught Place', 'New Delhi 110001', 'Delhi', 'India']}\n",
            "{'address': 'Regal Building, Connaught Place', 'lat': 28.630318339248806, 'lng': 77.21760032761195, 'labeledLatLngs': [{'label': 'display', 'lat': 28.630318339248806, 'lng': 77.21760032761195}], 'cc': 'IN', 'city': 'New Delhi', 'state': 'Delhi', 'country': 'India', 'formattedAddress': ['Regal Building, Connaught Place', 'New Delhi', 'Delhi', 'India']}\n",
            "{'address': '29/30 A, Malhotra Building, Block F, Inner Circle, Connaught Place', 'lat': 28.630946673402416, 'lng': 77.21972076414269, 'labeledLatLngs': [{'label': 'display', 'lat': 28.630946673402416, 'lng': 77.21972076414269}], 'postalCode': '110001', 'cc': 'IN', 'city': 'New Delhi', 'state': 'Delhi', 'country': 'India', 'formattedAddress': ['29/30 A, Malhotra Building, Block F, Inner Circle, Connaught Place', 'New Delhi 110001', 'Delhi', 'India']}\n",
            "{'address': 'Block M-108, Punj House, IInd Floor', 'crossStreet': 'Connaught Place', 'lat': 28.63153437940896, 'lng': 77.22230762243271, 'labeledLatLngs': [{'label': 'display', 'lat': 28.63153437940896, 'lng': 77.22230762243271}], 'postalCode': '110049', 'cc': 'IN', 'city': 'New Delhi', 'state': 'Delhi', 'country': 'India', 'formattedAddress': ['Block M-108, Punj House, IInd Floor (Connaught Place)', 'New Delhi 110049', 'Delhi', 'India']}\n",
            "{'lat': 28.633657822271832, 'lng': 77.21949493258369, 'labeledLatLngs': [{'label': 'display', 'lat': 28.633657822271832, 'lng': 77.21949493258369}], 'cc': 'IN', 'country': 'India', 'formattedAddress': ['India']}\n",
            "{'address': 'Outer circle', 'crossStreet': 'Connaught Place', 'lat': 28.63547073465791, 'lng': 77.2208127573954, 'labeledLatLngs': [{'label': 'display', 'lat': 28.63547073465791, 'lng': 77.2208127573954}], 'postalCode': '110091', 'cc': 'IN', 'city': 'New Delhi', 'state': 'Delhi', 'country': 'India', 'formattedAddress': ['Outer circle (Connaught Place)', 'New Delhi 110091', 'Delhi', 'India']}\n",
            "{'address': 'N 6, Outer Circle, Connaught Place', 'crossStreet': 'Connaught Place', 'lat': 28.630181868375203, 'lng': 77.21962210391595, 'labeledLatLngs': [{'label': 'display', 'lat': 28.630181868375203, 'lng': 77.21962210391595}], 'postalCode': '110001', 'cc': 'IN', 'city': 'New Delhi', 'state': 'Delhi', 'country': 'India', 'formattedAddress': ['N 6, Outer Circle, Connaught Place (Connaught Place)', 'New Delhi 110001', 'Delhi', 'India']}\n",
            "{'address': 'G-28', 'crossStreet': 'Connought Place', 'lat': 28.63159614132705, 'lng': 77.21993347329604, 'labeledLatLngs': [{'label': 'display', 'lat': 28.63159614132705, 'lng': 77.21993347329604}], 'cc': 'IN', 'city': 'Delhi', 'state': 'Delhi', 'country': 'India', 'formattedAddress': ['G-28 (Connought Place)', 'Delhi', 'Delhi', 'India']}\n",
            "{'address': 'Scindia House', 'crossStreet': 'Janpath', 'lat': 28.629138722281358, 'lng': 77.2196032154717, 'labeledLatLngs': [{'label': 'display', 'lat': 28.629138722281358, 'lng': 77.2196032154717}], 'postalCode': '110001', 'cc': 'IN', 'neighborhood': 'N.D. Charge 4', 'city': 'New Delhi', 'state': 'Delhi', 'country': 'India', 'formattedAddress': ['Scindia House (Janpath)', 'New Delhi 110001', 'Delhi', 'India']}\n",
            "{'address': 'H 27', 'crossStreet': 'Connaught Place', 'lat': 28.635210214696645, 'lng': 77.21807926655758, 'labeledLatLngs': [{'label': 'display', 'lat': 28.635210214696645, 'lng': 77.21807926655758}], 'postalCode': '110001', 'cc': 'IN', 'city': 'New Delhi', 'state': 'Delhi', 'country': 'India', 'formattedAddress': ['H 27 (Connaught Place)', 'New Delhi 110001', 'Delhi', 'India']}\n",
            "{'address': 'American Center', 'crossStreet': 'Connaught Place', 'lat': 28.63173491632254, 'lng': 77.21840646471269, 'labeledLatLngs': [{'label': 'display', 'lat': 28.63173491632254, 'lng': 77.21840646471269}], 'cc': 'IN', 'city': 'New Delhi', 'state': 'Delhi', 'country': 'India', 'formattedAddress': ['American Center (Connaught Place)', 'New Delhi', 'Delhi', 'India']}\n",
            "{'lat': 28.63017533629391, 'lng': 77.22071408321648, 'labeledLatLngs': [{'label': 'display', 'lat': 28.63017533629391, 'lng': 77.22071408321648}], 'cc': 'IN', 'country': 'India', 'formattedAddress': ['India']}\n",
            "{'address': '78, Janpath Rd.', 'lat': 28.628415028106655, 'lng': 77.21954938989002, 'labeledLatLngs': [{'label': 'display', 'lat': 28.628415028106655, 'lng': 77.21954938989002}], 'postalCode': '110001', 'cc': 'IN', 'city': 'New Delhi', 'state': 'Delhi', 'country': 'India', 'formattedAddress': ['78, Janpath Rd.', 'New Delhi 110001', 'Delhi', 'India']}\n",
            "{'address': '15/96 Scindia House', 'lat': 28.62913638616433, 'lng': 77.22012996193826, 'labeledLatLngs': [{'label': 'display', 'lat': 28.62913638616433, 'lng': 77.22012996193826}], 'postalCode': '110001', 'cc': 'IN', 'city': 'New Delhi', 'state': 'Delhi', 'country': 'India', 'formattedAddress': ['15/96 Scindia House', 'New Delhi 110001', 'Delhi', 'India']}\n",
            "{'address': 'Janpath', 'crossStreet': 'Nr. Connaught Place', 'lat': 28.628644953888774, 'lng': 77.21915874346587, 'labeledLatLngs': [{'label': 'display', 'lat': 28.628644953888774, 'lng': 77.21915874346587}], 'postalCode': '110001', 'cc': 'IN', 'city': 'New Delhi', 'state': 'Delhi', 'country': 'India', 'formattedAddress': ['Janpath (Nr. Connaught Place)', 'New Delhi 110001', 'Delhi', 'India']}\n",
            "{'address': 'Shanti Niketan, opp Venkateshwar College', 'lat': 28.63609948523326, 'lng': 77.22495786591341, 'labeledLatLngs': [{'label': 'display', 'lat': 28.63609948523326, 'lng': 77.22495786591341}], 'cc': 'IN', 'city': 'New Delhi', 'state': 'Delhi', 'country': 'India', 'formattedAddress': ['Shanti Niketan, opp Venkateshwar College', 'New Delhi', 'Delhi', 'India']}\n",
            "{'address': 'G-72, 1st Floor, Outer Circle, Connaught Place', 'crossStreet': 'at Baba Kharak Singh Marg', 'lat': 28.631747627958458, 'lng': 77.2168956566553, 'labeledLatLngs': [{'label': 'display', 'lat': 28.631747627958458, 'lng': 77.2168956566553}], 'postalCode': '110001', 'cc': 'IN', 'city': 'New Delhi', 'state': 'Delhi', 'country': 'India', 'formattedAddress': ['G-72, 1st Floor, Outer Circle, Connaught Place (at Baba Kharak Singh Marg)', 'New Delhi 110001', 'Delhi', 'India']}\n",
            "{'address': 'Connaught Place', 'lat': 28.632907157973833, 'lng': 77.21633720556096, 'labeledLatLngs': [{'label': 'display', 'lat': 28.632907157973833, 'lng': 77.21633720556096}], 'cc': 'IN', 'city': 'New Delhi', 'state': 'Delhi', 'country': 'India', 'formattedAddress': ['Connaught Place', 'New Delhi', 'Delhi', 'India']}\n",
            "{'address': 'Connaught Circus', 'crossStreet': 'Indira Chowk', 'lat': 28.63176562734097, 'lng': 77.21646960559119, 'labeledLatLngs': [{'label': 'display', 'lat': 28.63176562734097, 'lng': 77.21646960559119}], 'cc': 'IN', 'city': 'New Delhi', 'state': 'Delhi', 'country': 'India', 'formattedAddress': ['Connaught Circus (Indira Chowk)', 'New Delhi', 'Delhi', 'India']}\n",
            "{'address': 'Connaught Place', 'crossStreet': 'Connaught place', 'lat': 28.632365736814616, 'lng': 77.21648256126124, 'labeledLatLngs': [{'label': 'display', 'lat': 28.632365736814616, 'lng': 77.21648256126124}], 'postalCode': '110005', 'cc': 'IN', 'city': 'New Delhi', 'state': 'Delhi', 'country': 'India', 'formattedAddress': ['Connaught Place (Connaught place)', 'New Delhi 110005', 'Delhi', 'India']}\n",
            "{'address': 'G-59 Connaught Circus', 'lat': 28.633896819447788, 'lng': 77.21724092960358, 'labeledLatLngs': [{'label': 'display', 'lat': 28.633896819447788, 'lng': 77.21724092960358}], 'postalCode': '110001', 'cc': 'IN', 'city': 'New Delhi', 'state': 'Delhi', 'country': 'India', 'formattedAddress': ['G-59 Connaught Circus', 'New Delhi 110001', 'Delhi', 'India']}\n",
            "{'address': 'G 68, Outer Circle, Connaught Place', 'crossStreet': 'Opposite Alka Hotel', 'lat': 28.632387528689907, 'lng': 77.21671670393215, 'labeledLatLngs': [{'label': 'display', 'lat': 28.632387528689907, 'lng': 77.21671670393215}], 'postalCode': '110001', 'cc': 'IN', 'city': 'New Delhi', 'state': 'Delhi', 'country': 'India', 'formattedAddress': ['G 68, Outer Circle, Connaught Place (Opposite Alka Hotel)', 'New Delhi 110001', 'Delhi', 'India']}\n",
            "{'address': 'Connaught Place', 'lat': 28.629743645035568, 'lng': 77.21743130219578, 'labeledLatLngs': [{'label': 'display', 'lat': 28.629743645035568, 'lng': 77.21743130219578}], 'cc': 'IN', 'city': 'New Delhi', 'state': 'Delhi', 'country': 'India', 'formattedAddress': ['Connaught Place', 'New Delhi', 'Delhi', 'India']}\n",
            "{'address': 'P3/90 Connaught Place', 'crossStreet': 'Baba Kharak Singh Marg', 'lat': 28.63151670186656, 'lng': 77.21629239593994, 'labeledLatLngs': [{'label': 'display', 'lat': 28.63151670186656, 'lng': 77.21629239593994}], 'cc': 'IN', 'city': 'New Delhi', 'state': 'Delhi', 'country': 'India', 'formattedAddress': ['P3/90 Connaught Place (Baba Kharak Singh Marg)', 'New Delhi', 'Delhi', 'India']}\n",
            "{'address': 'Inside Regal Building', 'crossStreet': 'Connaught Place, Near Regal Cinema', 'lat': 28.631054, 'lng': 77.21697834826568, 'labeledLatLngs': [{'label': 'display', 'lat': 28.631054, 'lng': 77.21697834826568}], 'postalCode': '110001', 'cc': 'IN', 'city': 'New Delhi', 'state': 'Delhi', 'country': 'India', 'formattedAddress': ['Inside Regal Building (Connaught Place, Near Regal Cinema)', 'New Delhi 110001', 'Delhi', 'India']}\n",
            "{'lat': 28.63518246137902, 'lng': 77.21985990076243, 'labeledLatLngs': [{'label': 'display', 'lat': 28.63518246137902, 'lng': 77.21985990076243}], 'cc': 'IN', 'country': 'India', 'formattedAddress': ['India']}\n",
            "{'address': 'A-25/5 Middle Circle, Connaught Place', 'lat': 28.632793282499158, 'lng': 77.21718821209873, 'labeledLatLngs': [{'label': 'display', 'lat': 28.632793282499158, 'lng': 77.21718821209873}], 'postalCode': '110001', 'cc': 'IN', 'city': 'New Delhi', 'state': 'Delhi', 'country': 'India', 'formattedAddress': ['A-25/5 Middle Circle, Connaught Place', 'New Delhi 110001', 'Delhi', 'India']}\n",
            "{'address': 'Delhi Metro Airport Express Line', 'lat': 28.641804550179593, 'lng': 77.21909137541454, 'labeledLatLngs': [{'label': 'display', 'lat': 28.641804550179593, 'lng': 77.21909137541454}], 'cc': 'IN', 'country': 'India', 'formattedAddress': ['Delhi Metro Airport Express Line', 'India']}\n",
            "{'address': '2nd Floor, Mohan Singh Place, Connaught Place', 'lat': 28.630755930400426, 'lng': 77.21605434631832, 'labeledLatLngs': [{'label': 'display', 'lat': 28.630755930400426, 'lng': 77.21605434631832}], 'postalCode': '110002', 'cc': 'IN', 'city': 'New Delhi', 'state': 'Delhi', 'country': 'India', 'formattedAddress': ['2nd Floor, Mohan Singh Place, Connaught Place', 'New Delhi 110002', 'Delhi', 'India']}\n",
            "{'address': 'K18, 22 Connaught Place', 'crossStreet': 'Radial Rd 4', 'lat': 28.635219893759988, 'lng': 77.22000084086731, 'labeledLatLngs': [{'label': 'display', 'lat': 28.635219893759988, 'lng': 77.22000084086731}], 'cc': 'IN', 'city': 'New Delhi', 'state': 'Delhi', 'country': 'India', 'formattedAddress': ['K18, 22 Connaught Place (Radial Rd 4)', 'New Delhi', 'Delhi', 'India']}\n",
            "{'address': 'New Delhi Railway Station', 'lat': 28.640099388535003, 'lng': 77.22153344273775, 'labeledLatLngs': [{'label': 'display', 'lat': 28.640099388535003, 'lng': 77.22153344273775}], 'cc': 'IN', 'city': 'New Delhi', 'state': 'Delhi', 'country': 'India', 'formattedAddress': ['New Delhi Railway Station', 'New Delhi', 'Delhi', 'India']}\n",
            "{'address': 'New delhi railway station', 'lat': 28.641397417010225, 'lng': 77.22203307787835, 'labeledLatLngs': [{'label': 'display', 'lat': 28.641397417010225, 'lng': 77.22203307787835}], 'cc': 'IN', 'city': 'New Delhi', 'state': 'Delhi', 'country': 'India', 'formattedAddress': ['New delhi railway station', 'New Delhi', 'Delhi', 'India']}\n",
            "{'address': 'Delhi', 'lat': 28.64186514617183, 'lng': 77.2218309785254, 'labeledLatLngs': [{'label': 'display', 'lat': 28.64186514617183, 'lng': 77.2218309785254}], 'cc': 'IN', 'city': 'Delhi', 'state': 'Delhi', 'country': 'India', 'formattedAddress': ['Delhi', 'Delhi', 'Delhi', 'India']}\n",
            "{'lat': 28.634668, 'lng': 77.217381, 'labeledLatLngs': [{'label': 'display', 'lat': 28.634668, 'lng': 77.217381}], 'cc': 'IN', 'country': 'India', 'formattedAddress': ['India']}\n",
            "{'address': 'CP', 'lat': 28.63113875485524, 'lng': 77.2161835964603, 'labeledLatLngs': [{'label': 'display', 'lat': 28.63113875485524, 'lng': 77.2161835964603}], 'cc': 'IN', 'city': 'New Delhi', 'state': 'Delhi', 'country': 'India', 'formattedAddress': ['CP', 'New Delhi', 'Delhi', 'India']}\n",
            "{'address': 'Radisson Marina Hotel', 'lat': 28.63380617562755, 'lng': 77.21719382619487, 'labeledLatLngs': [{'label': 'display', 'lat': 28.63380617562755, 'lng': 77.21719382619487}], 'postalCode': '110001', 'cc': 'IN', 'city': 'New Delhi', 'state': 'Delhi', 'country': 'India', 'formattedAddress': ['Radisson Marina Hotel', 'New Delhi 110001', 'Delhi', 'India']}\n",
            "{'address': 'Near New Delhi Metro Station', 'lat': 28.641319799018863, 'lng': 77.23053216533661, 'labeledLatLngs': [{'label': 'display', 'lat': 28.641319799018863, 'lng': 77.23053216533661}], 'cc': 'IN', 'city': 'New Delhi', 'state': 'Delhi', 'country': 'India', 'formattedAddress': ['Near New Delhi Metro Station', 'New Delhi', 'Delhi', 'India']}\n",
            "{'address': '44, Regal Building, Outer Circle, Connaught Place', 'crossStreet': 'Connaught Place', 'lat': 28.6309368, 'lng': 77.2170305, 'labeledLatLngs': [{'label': 'display', 'lat': 28.6309368, 'lng': 77.2170305}], 'postalCode': '110001', 'cc': 'IN', 'city': 'New Delhi', 'state': 'Delhi', 'country': 'India', 'formattedAddress': ['44, Regal Building, Outer Circle, Connaught Place (Connaught Place)', 'New Delhi 110001', 'Delhi', 'India']}\n",
            "{'lat': 28.64277132489119, 'lng': 77.21975382625152, 'labeledLatLngs': [{'label': 'display', 'lat': 28.64277132489119, 'lng': 77.21975382625152}], 'cc': 'IN', 'country': 'India', 'formattedAddress': ['India']}\n",
            "{'lat': 28.640013300098744, 'lng': 77.21646399146064, 'labeledLatLngs': [{'label': 'display', 'lat': 28.640013300098744, 'lng': 77.21646399146064}], 'cc': 'IN', 'country': 'India', 'formattedAddress': ['India']}\n",
            "{'lat': 28.642031351828596, 'lng': 77.23083436489105, 'labeledLatLngs': [{'label': 'display', 'lat': 28.642031351828596, 'lng': 77.23083436489105}], 'cc': 'IN', 'country': 'India', 'formattedAddress': ['India']}\n",
            "{'address': 'Connaught Place', 'crossStreet': 'Opp Rivoli', 'lat': 28.63127367409223, 'lng': 77.21608784410734, 'labeledLatLngs': [{'label': 'display', 'lat': 28.63127367409223, 'lng': 77.21608784410734}], 'cc': 'IN', 'city': 'New Delhi', 'state': 'Delhi', 'country': 'India', 'formattedAddress': ['Connaught Place (Opp Rivoli)', 'New Delhi', 'Delhi', 'India']}\n",
            "{'address': 'Barakhamba Avenue', 'crossStreet': 'Connaught Place', 'lat': 28.628188969759734, 'lng': 77.22976684570312, 'labeledLatLngs': [{'label': 'display', 'lat': 28.628188969759734, 'lng': 77.22976684570312}], 'postalCode': '110001', 'cc': 'IN', 'city': 'New Delhi', 'state': 'Delhi', 'country': 'India', 'formattedAddress': ['Barakhamba Avenue (Connaught Place)', 'New Delhi 110001', 'Delhi', 'India']}\n",
            "found 35 theaters\n"
          ],
          "name": "stdout"
        },
        {
          "output_type": "execute_result",
          "data": {
            "text/html": [
              "<div>\n",
              "<style scoped>\n",
              "    .dataframe tbody tr th:only-of-type {\n",
              "        vertical-align: middle;\n",
              "    }\n",
              "\n",
              "    .dataframe tbody tr th {\n",
              "        vertical-align: top;\n",
              "    }\n",
              "\n",
              "    .dataframe thead th {\n",
              "        text-align: right;\n",
              "    }\n",
              "</style>\n",
              "<table border=\"1\" class=\"dataframe\">\n",
              "  <thead>\n",
              "    <tr style=\"text-align: right;\">\n",
              "      <th></th>\n",
              "      <th>uid</th>\n",
              "      <th>name</th>\n",
              "      <th>shortname</th>\n",
              "      <th>address</th>\n",
              "      <th>postalcode</th>\n",
              "      <th>lat</th>\n",
              "      <th>lng</th>\n",
              "    </tr>\n",
              "  </thead>\n",
              "  <tbody>\n",
              "    <tr>\n",
              "      <th>0</th>\n",
              "      <td>4f0f00a7e4b07eb2379b1e1d</td>\n",
              "      <td>Khan Chacha | खान चाचा | خان چاچا</td>\n",
              "      <td>Indian</td>\n",
              "      <td></td>\n",
              "      <td>110001</td>\n",
              "      <td>28.634202</td>\n",
              "      <td>77.220780</td>\n",
              "    </tr>\n",
              "    <tr>\n",
              "      <th>1</th>\n",
              "      <td>4b489b54f964a520595026e3</td>\n",
              "      <td>Connaught Place | कनॉट प्लेस (Connaught Place)</td>\n",
              "      <td>Plaza</td>\n",
              "      <td></td>\n",
              "      <td>110001</td>\n",
              "      <td>28.632731</td>\n",
              "      <td>77.220018</td>\n",
              "    </tr>\n",
              "    <tr>\n",
              "      <th>2</th>\n",
              "      <td>4e1d611e45ddc696bb391c3b</td>\n",
              "      <td>Route 04</td>\n",
              "      <td>Bar</td>\n",
              "      <td></td>\n",
              "      <td>110001</td>\n",
              "      <td>28.634890</td>\n",
              "      <td>77.220225</td>\n",
              "    </tr>\n",
              "    <tr>\n",
              "      <th>3</th>\n",
              "      <td>4bf107ab24f020a1e0a8684f</td>\n",
              "      <td>Nizam's Kathi Kabab | निजा़म काठी कबाब</td>\n",
              "      <td>Indian</td>\n",
              "      <td></td>\n",
              "      <td>110001</td>\n",
              "      <td>28.634858</td>\n",
              "      <td>77.219462</td>\n",
              "    </tr>\n",
              "    <tr>\n",
              "      <th>4</th>\n",
              "      <td>4e4e44902271a1bdc3ccee8d</td>\n",
              "      <td>Wenger's</td>\n",
              "      <td>Bakery</td>\n",
              "      <td></td>\n",
              "      <td>110001</td>\n",
              "      <td>28.633412</td>\n",
              "      <td>77.218292</td>\n",
              "    </tr>\n",
              "  </tbody>\n",
              "</table>\n",
              "</div>"
            ],
            "text/plain": [
              "                        uid  ...        lng\n",
              "0  4f0f00a7e4b07eb2379b1e1d  ...  77.220780\n",
              "1  4b489b54f964a520595026e3  ...  77.220018\n",
              "2  4e1d611e45ddc696bb391c3b  ...  77.220225\n",
              "3  4bf107ab24f020a1e0a8684f  ...  77.219462\n",
              "4  4e4e44902271a1bdc3ccee8d  ...  77.218292\n",
              "\n",
              "[5 rows x 7 columns]"
            ]
          },
          "metadata": {
            "tags": []
          },
          "execution_count": 27
        }
      ]
    },
    {
      "cell_type": "markdown",
      "metadata": {
        "id": "8qnwo1nYzZZu",
        "colab_type": "text"
      },
      "source": [
        "As we can see that there are many shops without address we need to execute hasattr() to determine if each object (coffeeshop) has a attribute (address)."
      ]
    },
    {
      "cell_type": "markdown",
      "metadata": {
        "id": "LtAKJXSJzK5j",
        "colab_type": "text"
      },
      "source": [
        "Next step we will execute a very important part - get coordinates of Newdelhi and create folium map which will help visualize what we have got from data."
      ]
    },
    {
      "cell_type": "code",
      "metadata": {
        "id": "y66jwCigpsa7",
        "colab_type": "code",
        "colab": {
          "base_uri": "https://localhost:8080/",
          "height": 34
        },
        "outputId": "ef7c2e66-e1c3-4644-94ad-d86f1b4eefa7"
      },
      "source": [
        "newdelhi_center = d[\"geocode\"][\"center\"]\n",
        "newdelhi_center"
      ],
      "execution_count": 28,
      "outputs": [
        {
          "output_type": "execute_result",
          "data": {
            "text/plain": [
              "{'lat': 28.63576, 'lng': 77.22445}"
            ]
          },
          "metadata": {
            "tags": []
          },
          "execution_count": 28
        }
      ]
    },
    {
      "cell_type": "code",
      "metadata": {
        "id": "pvEUnbZtq8Hv",
        "colab_type": "code",
        "colab": {
          "base_uri": "https://localhost:8080/",
          "height": 669
        },
        "outputId": "537a8d9c-0301-4a31-fc8b-1b4f1693b440"
      },
      "source": [
        "df.head(20)"
      ],
      "execution_count": 32,
      "outputs": [
        {
          "output_type": "execute_result",
          "data": {
            "text/html": [
              "<div>\n",
              "<style scoped>\n",
              "    .dataframe tbody tr th:only-of-type {\n",
              "        vertical-align: middle;\n",
              "    }\n",
              "\n",
              "    .dataframe tbody tr th {\n",
              "        vertical-align: top;\n",
              "    }\n",
              "\n",
              "    .dataframe thead th {\n",
              "        text-align: right;\n",
              "    }\n",
              "</style>\n",
              "<table border=\"1\" class=\"dataframe\">\n",
              "  <thead>\n",
              "    <tr style=\"text-align: right;\">\n",
              "      <th></th>\n",
              "      <th>uid</th>\n",
              "      <th>name</th>\n",
              "      <th>shortname</th>\n",
              "      <th>address</th>\n",
              "      <th>postalcode</th>\n",
              "      <th>lat</th>\n",
              "      <th>lng</th>\n",
              "    </tr>\n",
              "  </thead>\n",
              "  <tbody>\n",
              "    <tr>\n",
              "      <th>0</th>\n",
              "      <td>4f0f00a7e4b07eb2379b1e1d</td>\n",
              "      <td>Khan Chacha | खान चाचा | خان چاچا</td>\n",
              "      <td>Indian</td>\n",
              "      <td></td>\n",
              "      <td>110001</td>\n",
              "      <td>28.634202</td>\n",
              "      <td>77.220780</td>\n",
              "    </tr>\n",
              "    <tr>\n",
              "      <th>1</th>\n",
              "      <td>4b489b54f964a520595026e3</td>\n",
              "      <td>Connaught Place | कनॉट प्लेस (Connaught Place)</td>\n",
              "      <td>Plaza</td>\n",
              "      <td></td>\n",
              "      <td>110001</td>\n",
              "      <td>28.632731</td>\n",
              "      <td>77.220018</td>\n",
              "    </tr>\n",
              "    <tr>\n",
              "      <th>2</th>\n",
              "      <td>4e1d611e45ddc696bb391c3b</td>\n",
              "      <td>Route 04</td>\n",
              "      <td>Bar</td>\n",
              "      <td></td>\n",
              "      <td>110001</td>\n",
              "      <td>28.634890</td>\n",
              "      <td>77.220225</td>\n",
              "    </tr>\n",
              "    <tr>\n",
              "      <th>3</th>\n",
              "      <td>4bf107ab24f020a1e0a8684f</td>\n",
              "      <td>Nizam's Kathi Kabab | निजा़म काठी कबाब</td>\n",
              "      <td>Indian</td>\n",
              "      <td></td>\n",
              "      <td>110001</td>\n",
              "      <td>28.634858</td>\n",
              "      <td>77.219462</td>\n",
              "    </tr>\n",
              "    <tr>\n",
              "      <th>4</th>\n",
              "      <td>4e4e44902271a1bdc3ccee8d</td>\n",
              "      <td>Wenger's</td>\n",
              "      <td>Bakery</td>\n",
              "      <td></td>\n",
              "      <td>110001</td>\n",
              "      <td>28.633412</td>\n",
              "      <td>77.218292</td>\n",
              "    </tr>\n",
              "    <tr>\n",
              "      <th>5</th>\n",
              "      <td>4b59921bf964a520fe8c28e3</td>\n",
              "      <td>United Coffee House</td>\n",
              "      <td>Indian</td>\n",
              "      <td></td>\n",
              "      <td>110001</td>\n",
              "      <td>28.632477</td>\n",
              "      <td>77.221120</td>\n",
              "    </tr>\n",
              "    <tr>\n",
              "      <th>6</th>\n",
              "      <td>519ba450498eb0c559152d94</td>\n",
              "      <td>HOTEL SARAVANA BHAVAN</td>\n",
              "      <td>South Indian</td>\n",
              "      <td></td>\n",
              "      <td>110001</td>\n",
              "      <td>28.632319</td>\n",
              "      <td>77.216445</td>\n",
              "    </tr>\n",
              "    <tr>\n",
              "      <th>7</th>\n",
              "      <td>4cbb2592dd41a35df95eeca0</td>\n",
              "      <td>Rajdhani Thali</td>\n",
              "      <td>Indian</td>\n",
              "      <td></td>\n",
              "      <td>110001</td>\n",
              "      <td>28.629999</td>\n",
              "      <td>77.220401</td>\n",
              "    </tr>\n",
              "    <tr>\n",
              "      <th>8</th>\n",
              "      <td>54440189498e4795b1111834</td>\n",
              "      <td>Immigrants Project - A Cafe in History</td>\n",
              "      <td>Café</td>\n",
              "      <td></td>\n",
              "      <td>110001</td>\n",
              "      <td>28.634055</td>\n",
              "      <td>77.218867</td>\n",
              "    </tr>\n",
              "    <tr>\n",
              "      <th>9</th>\n",
              "      <td>4e2ab5758877b69d49d7c525</td>\n",
              "      <td>Fabindia</td>\n",
              "      <td>Apparel</td>\n",
              "      <td></td>\n",
              "      <td>110001</td>\n",
              "      <td>28.632012</td>\n",
              "      <td>77.217729</td>\n",
              "    </tr>\n",
              "    <tr>\n",
              "      <th>10</th>\n",
              "      <td>4d655003823ca35d7f1cfe88</td>\n",
              "      <td>Jain Chawal Wale</td>\n",
              "      <td>Food Truck</td>\n",
              "      <td></td>\n",
              "      <td>110001</td>\n",
              "      <td>28.630052</td>\n",
              "      <td>77.217649</td>\n",
              "    </tr>\n",
              "    <tr>\n",
              "      <th>11</th>\n",
              "      <td>580a6d0738fa3e233b7c0045</td>\n",
              "      <td>Smoke House Deli</td>\n",
              "      <td>Deli / Bodega</td>\n",
              "      <td></td>\n",
              "      <td>110001</td>\n",
              "      <td>28.633764</td>\n",
              "      <td>77.221405</td>\n",
              "    </tr>\n",
              "    <tr>\n",
              "      <th>12</th>\n",
              "      <td>4eaeb8e729c2a9bb9827742e</td>\n",
              "      <td>Nirula's</td>\n",
              "      <td>Desserts</td>\n",
              "      <td></td>\n",
              "      <td>110001</td>\n",
              "      <td>28.635506</td>\n",
              "      <td>77.220605</td>\n",
              "    </tr>\n",
              "    <tr>\n",
              "      <th>13</th>\n",
              "      <td>51690773e4b09433491d990e</td>\n",
              "      <td>Cha Bar | चा बार</td>\n",
              "      <td>Tea Room</td>\n",
              "      <td></td>\n",
              "      <td>110001</td>\n",
              "      <td>28.630920</td>\n",
              "      <td>77.222194</td>\n",
              "    </tr>\n",
              "    <tr>\n",
              "      <th>14</th>\n",
              "      <td>51338004e4b099a3a7233bdc</td>\n",
              "      <td>Barbeque Nation</td>\n",
              "      <td>BBQ</td>\n",
              "      <td></td>\n",
              "      <td>110001</td>\n",
              "      <td>28.630253</td>\n",
              "      <td>77.220985</td>\n",
              "    </tr>\n",
              "    <tr>\n",
              "      <th>15</th>\n",
              "      <td>4b5c78e9f964a5206f3129e3</td>\n",
              "      <td>Berco's</td>\n",
              "      <td>Chinese</td>\n",
              "      <td></td>\n",
              "      <td>110001</td>\n",
              "      <td>28.632407</td>\n",
              "      <td>77.217323</td>\n",
              "    </tr>\n",
              "    <tr>\n",
              "      <th>16</th>\n",
              "      <td>546c88c6498eda3fbfdaac96</td>\n",
              "      <td>Nando's</td>\n",
              "      <td>Portuguese</td>\n",
              "      <td></td>\n",
              "      <td>110001</td>\n",
              "      <td>28.630947</td>\n",
              "      <td>77.219721</td>\n",
              "    </tr>\n",
              "    <tr>\n",
              "      <th>17</th>\n",
              "      <td>50fb918be4b02fe30f264d72</td>\n",
              "      <td>Monsoon Salon &amp; Spa Connaught Place</td>\n",
              "      <td>Salon / Barbershop</td>\n",
              "      <td></td>\n",
              "      <td>110049</td>\n",
              "      <td>28.631534</td>\n",
              "      <td>77.222308</td>\n",
              "    </tr>\n",
              "    <tr>\n",
              "      <th>18</th>\n",
              "      <td>4f2434b9e4b0617644100304</td>\n",
              "      <td>@Live</td>\n",
              "      <td>Jazz Club</td>\n",
              "      <td></td>\n",
              "      <td>110091</td>\n",
              "      <td>28.635471</td>\n",
              "      <td>77.220813</td>\n",
              "    </tr>\n",
              "    <tr>\n",
              "      <th>19</th>\n",
              "      <td>4fae55f3e4b047f11d17675f</td>\n",
              "      <td>Dunkin'</td>\n",
              "      <td>Donuts</td>\n",
              "      <td></td>\n",
              "      <td>110001</td>\n",
              "      <td>28.630182</td>\n",
              "      <td>77.219622</td>\n",
              "    </tr>\n",
              "  </tbody>\n",
              "</table>\n",
              "</div>"
            ],
            "text/plain": [
              "                         uid  ...        lng\n",
              "0   4f0f00a7e4b07eb2379b1e1d  ...  77.220780\n",
              "1   4b489b54f964a520595026e3  ...  77.220018\n",
              "2   4e1d611e45ddc696bb391c3b  ...  77.220225\n",
              "3   4bf107ab24f020a1e0a8684f  ...  77.219462\n",
              "4   4e4e44902271a1bdc3ccee8d  ...  77.218292\n",
              "5   4b59921bf964a520fe8c28e3  ...  77.221120\n",
              "6   519ba450498eb0c559152d94  ...  77.216445\n",
              "7   4cbb2592dd41a35df95eeca0  ...  77.220401\n",
              "8   54440189498e4795b1111834  ...  77.218867\n",
              "9   4e2ab5758877b69d49d7c525  ...  77.217729\n",
              "10  4d655003823ca35d7f1cfe88  ...  77.217649\n",
              "11  580a6d0738fa3e233b7c0045  ...  77.221405\n",
              "12  4eaeb8e729c2a9bb9827742e  ...  77.220605\n",
              "13  51690773e4b09433491d990e  ...  77.222194\n",
              "14  51338004e4b099a3a7233bdc  ...  77.220985\n",
              "15  4b5c78e9f964a5206f3129e3  ...  77.217323\n",
              "16  546c88c6498eda3fbfdaac96  ...  77.219721\n",
              "17  50fb918be4b02fe30f264d72  ...  77.222308\n",
              "18  4f2434b9e4b0617644100304  ...  77.220813\n",
              "19  4fae55f3e4b047f11d17675f  ...  77.219622\n",
              "\n",
              "[20 rows x 7 columns]"
            ]
          },
          "metadata": {
            "tags": []
          },
          "execution_count": 32
        }
      ]
    },
    {
      "cell_type": "code",
      "metadata": {
        "id": "57JAhWyNp1zz",
        "colab_type": "code",
        "colab": {
          "base_uri": "https://localhost:8080/",
          "height": 763
        },
        "outputId": "b1b0bda7-5166-4d28-92d8-3434eb629307"
      },
      "source": [
        "from folium import plugins\n",
        "\n",
        "\n",
        "map_newdelhi = folium.Map(location=[28.63576, 77.22445], zoom_start=14)\n",
        "\n",
        "def add_markers(df):\n",
        "    for (j, row) in df.iterrows():\n",
        "        label = folium.Popup(row[\"name\"], parse_html=True)\n",
        "        folium.CircleMarker(\n",
        "            [row[\"lat\"], row[\"lng\"]],\n",
        "            radius=5,\n",
        "            popup=label,\n",
        "            color='red',\n",
        "            fill=True,\n",
        "            fill_color='#3186cc',\n",
        "            fill_opacity=0.7,\n",
        "            parse_html=False).add_to(map_newdelhi)\n",
        "\n",
        "add_markers(df)\n",
        "hm_data = df[[\"lat\", \"lng\"]].to_numpy().tolist()\n",
        "map_newdelhi.add_child(plugins.HeatMap(hm_data))\n",
        "\n",
        "map_newdelhi"
      ],
      "execution_count": 29,
      "outputs": [
        {
          "output_type": "execute_result",
          "data": {
            "text/html": [
              "<div style=\"width:100%;\"><div style=\"position:relative;width:100%;height:0;padding-bottom:60%;\"><span style=\"color:#565656\">Make this Notebook Trusted to load map: File -> Trust Notebook</span><iframe src=\"about:blank\" style=\"position:absolute;width:100%;height:100%;left:0;top:0;border:none !important;\" data-html=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 onload=\"this.contentDocument.open();this.contentDocument.write(atob(this.getAttribute('data-html')));this.contentDocument.close();\" allowfullscreen webkitallowfullscreen mozallowfullscreen></iframe></div></div>"
            ],
            "text/plain": [
              "<folium.folium.Map at 0x7eff45564400>"
            ]
          },
          "metadata": {
            "tags": []
          },
          "execution_count": 29
        }
      ]
    },
    {
      "cell_type": "markdown",
      "metadata": {
        "id": "l0bUE9XLz7yk",
        "colab_type": "text"
      },
      "source": [
        "By spotting the clusters of items we can see which neighborhood has density of  business."
      ]
    },
    {
      "cell_type": "markdown",
      "metadata": {
        "id": "jcwRDDkq0BAA",
        "colab_type": "text"
      },
      "source": [
        "3. Conclusion\n",
        "\n",
        "We will need a location where we can catch out customers from \"hot\" location we have picked up from the map and stay in a certain distance so as to lessen the competivity of business."
      ]
    },
    {
      "cell_type": "code",
      "metadata": {
        "id": "b5x4Yy71ql-0",
        "colab_type": "code",
        "colab": {
          "base_uri": "https://localhost:8080/",
          "height": 763
        },
        "outputId": "41075f49-4948-4eb5-cea9-c1327edeeeb5"
      },
      "source": [
        "lat = 28.63576\n",
        "lng = 77.22445\n",
        "map_newdelhi = folium.Map(location=[lat, lng], zoom_start=17)\n",
        "add_markers(df)\n",
        "folium.CircleMarker(\n",
        "    [lat, lng],\n",
        "    radius=15,\n",
        "    popup=\"O Day Roi!\",\n",
        "    color='green',\n",
        "    fill=True,\n",
        "    fill_color='#3186cc',\n",
        "    fill_opacity=0.7,\n",
        "    parse_html=False).add_to(map_newdelhi)\n",
        "map_newdelhi"
      ],
      "execution_count": 30,
      "outputs": [
        {
          "output_type": "execute_result",
          "data": {
            "text/html": [
              "<div style=\"width:100%;\"><div style=\"position:relative;width:100%;height:0;padding-bottom:60%;\"><span style=\"color:#565656\">Make this Notebook Trusted to load map: File -> Trust Notebook</span><iframe src=\"about:blank\" style=\"position:absolute;width:100%;height:100%;left:0;top:0;border:none !important;\" data-html=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 onload=\"this.contentDocument.open();this.contentDocument.write(atob(this.getAttribute('data-html')));this.contentDocument.close();\" allowfullscreen webkitallowfullscreen mozallowfullscreen></iframe></div></div>"
            ],
            "text/plain": [
              "<folium.folium.Map at 0x7eff455a9be0>"
            ]
          },
          "metadata": {
            "tags": []
          },
          "execution_count": 30
        }
      ]
    },
    {
      "cell_type": "markdown",
      "metadata": {
        "id": "3dlme_sd0VEU",
        "colab_type": "text"
      },
      "source": [
        "Look at the blue buble, here we find out that it will locate about the Deen dayal upadyay road. "
      ]
    }
  ]
}