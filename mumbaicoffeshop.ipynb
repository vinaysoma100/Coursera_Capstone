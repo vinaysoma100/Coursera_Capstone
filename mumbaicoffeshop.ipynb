{
  "nbformat": 4,
  "nbformat_minor": 0,
  "metadata": {
    "colab": {
      "name": "mumbaicoffeshop",
      "provenance": [],
      "collapsed_sections": [],
      "authorship_tag": "ABX9TyPxD282A44dyHxw+k5FCQQD",
      "include_colab_link": true
    },
    "kernelspec": {
      "name": "python3",
      "display_name": "Python 3"
    }
  },
  "cells": [
    {
      "cell_type": "markdown",
      "metadata": {
        "id": "view-in-github",
        "colab_type": "text"
      },
      "source": [
        "<a href=\"https://colab.research.google.com/github/vinaysoma100/Coursera_Capstone/blob/master/mumbaicoffeshop.ipynb\" target=\"_parent\"><img src=\"https://colab.research.google.com/assets/colab-badge.svg\" alt=\"Open In Colab\"/></a>"
      ]
    },
    {
      "cell_type": "markdown",
      "metadata": {
        "id": "c4KYfKBry092",
        "colab_type": "text"
      },
      "source": [
        "# 1.***Introduction: COFFEE shop in Mumbai,India***\n",
        "\n",
        "In such a large and rich city Mumbai,India. it will be competitive to start up coffee business. In this case my contractor, man who has contacted me to give advises and draw up essential lines of business prediction and back-up plans (but this part we will just discuss about predicting hot spot).\n"
      ]
    },
    {
      "cell_type": "markdown",
      "metadata": {
        "id": "P-J4bfuvzkJO",
        "colab_type": "text"
      },
      "source": [
        "# ***2. Orientation***\n",
        "First of all we need to collect Data of all coffee shops in Mumbai including their name, id, location (address, latitude, longitude) then pick up the \"hot\" neighbor where locates most of the venue. In order to asset Data we use FourSquare and apply folium for visualizing a particular neighbor in which that we will observe customer \"traffic\" and predict an appropriate location of new coffee shop in town. In this case you will find its temporary name on the folium map, \"Here It Is!\""
      ]
    },
    {
      "cell_type": "markdown",
      "metadata": {
        "id": "ASIGfpY33d9w",
        "colab_type": "text"
      },
      "source": [
        "# ***3. Execution steps***\n",
        "\n",
        "We import all the tools we need."
      ]
    },
    {
      "cell_type": "code",
      "metadata": {
        "id": "mDd6aladrHe8",
        "colab_type": "code",
        "colab": {
          "base_uri": "https://localhost:8080/",
          "height": 204
        },
        "outputId": "58241863-911a-4903-96bc-01cc1d636a3f"
      },
      "source": [
        "import requests # library to handle requests\n",
        "import pandas as pd # library for data analsysis\n",
        "import numpy as np\n",
        "!pip install folium\n",
        "import folium "
      ],
      "execution_count": 1,
      "outputs": [
        {
          "output_type": "stream",
          "text": [
            "Requirement already satisfied: folium in /usr/local/lib/python3.6/dist-packages (0.8.3)\n",
            "Requirement already satisfied: branca>=0.3.0 in /usr/local/lib/python3.6/dist-packages (from folium) (0.4.1)\n",
            "Requirement already satisfied: six in /usr/local/lib/python3.6/dist-packages (from folium) (1.15.0)\n",
            "Requirement already satisfied: numpy in /usr/local/lib/python3.6/dist-packages (from folium) (1.18.5)\n",
            "Requirement already satisfied: jinja2 in /usr/local/lib/python3.6/dist-packages (from folium) (2.11.2)\n",
            "Requirement already satisfied: requests in /usr/local/lib/python3.6/dist-packages (from folium) (2.23.0)\n",
            "Requirement already satisfied: MarkupSafe>=0.23 in /usr/local/lib/python3.6/dist-packages (from jinja2->folium) (1.1.1)\n",
            "Requirement already satisfied: chardet<4,>=3.0.2 in /usr/local/lib/python3.6/dist-packages (from requests->folium) (3.0.4)\n",
            "Requirement already satisfied: urllib3!=1.25.0,!=1.25.1,<1.26,>=1.21.1 in /usr/local/lib/python3.6/dist-packages (from requests->folium) (1.24.3)\n",
            "Requirement already satisfied: certifi>=2017.4.17 in /usr/local/lib/python3.6/dist-packages (from requests->folium) (2020.6.20)\n",
            "Requirement already satisfied: idna<3,>=2.5 in /usr/local/lib/python3.6/dist-packages (from requests->folium) (2.10)\n"
          ],
          "name": "stdout"
        }
      ]
    },
    {
      "cell_type": "markdown",
      "metadata": {
        "id": "4DtYkn_33lpq",
        "colab_type": "text"
      },
      "source": [
        "# ***Apply your credential ID on [FourSquare]***\n",
        "\n"
      ]
    },
    {
      "cell_type": "code",
      "metadata": {
        "id": "ZF2x6_FTrQAo",
        "colab_type": "code",
        "colab": {
          "base_uri": "https://localhost:8080/",
          "height": 68
        },
        "outputId": "b96c5b16-1564-4886-b400-d373a699999e"
      },
      "source": [
        "CLIENT_ID = 'BBQ2ZJRNMOOMVOEEBJIFWQA5S3MXXBQPC4TEIX3IEXIEXND4' # your Foursquare ID\n",
        "CLIENT_SECRET = 'V5RRJXCYGXIXXKUCFU1WZV1OFA5YQKX2DJFVP0REQNQPXG4D' # your Foursquare Secret\n",
        "VERSION = '20180604'\n",
        "LIMIT = 40\n",
        "print('Your credentails:')\n",
        "print('CLIENT_ID: ' + CLIENT_ID)\n",
        "print('CLIENT_SECRET:' + CLIENT_SECRET)"
      ],
      "execution_count": 2,
      "outputs": [
        {
          "output_type": "stream",
          "text": [
            "Your credentails:\n",
            "CLIENT_ID: BBQ2ZJRNMOOMVOEEBJIFWQA5S3MXXBQPC4TEIX3IEXIEXND4\n",
            "CLIENT_SECRET:V5RRJXCYGXIXXKUCFU1WZV1OFA5YQKX2DJFVP0REQNQPXG4D\n"
          ],
          "name": "stdout"
        }
      ]
    },
    {
      "cell_type": "code",
      "metadata": {
        "id": "CJODuTQLro1l",
        "colab_type": "code",
        "colab": {}
      },
      "source": [
        "import requests\n",
        "\n",
        "request_parameters = {\n",
        "    \"client_id\": CLIENT_ID,\n",
        "    \"client_secret\": CLIENT_SECRET,\n",
        "    \"v\": '20180605',\n",
        "    \"section\": \"coffee\",\n",
        "    \"near\": \"mumbai\",\n",
        "    \"radius\": 1000,\n",
        "    \"limit\": 200}\n",
        "\n",
        "data = requests.get(\"https://api.foursquare.com/v2/venues/explore\", params=request_parameters)"
      ],
      "execution_count": 23,
      "outputs": []
    },
    {
      "cell_type": "markdown",
      "metadata": {
        "id": "m4IGJoBB4Jn8",
        "colab_type": "text"
      },
      "source": [
        "# ***Transform data into json then request geocode.***\n",
        "\n"
      ]
    },
    {
      "cell_type": "code",
      "metadata": {
        "id": "aFoovrmhr2Pw",
        "colab_type": "code",
        "colab": {
          "base_uri": "https://localhost:8080/",
          "height": 54
        },
        "outputId": "8ee1396a-e065-4bf6-d83a-5c2722e8a8d2"
      },
      "source": [
        "d = data.json()[\"response\"]\n",
        "d.keys()"
      ],
      "execution_count": 24,
      "outputs": [
        {
          "output_type": "execute_result",
          "data": {
            "text/plain": [
              "dict_keys(['suggestedFilters', 'geocode', 'headerLocation', 'headerFullLocation', 'headerLocationGranularity', 'query', 'totalResults', 'suggestedBounds', 'groups'])"
            ]
          },
          "metadata": {
            "tags": []
          },
          "execution_count": 24
        }
      ]
    },
    {
      "cell_type": "code",
      "metadata": {
        "id": "GvNflzvGr2Y8",
        "colab_type": "code",
        "colab": {
          "base_uri": "https://localhost:8080/",
          "height": 34
        },
        "outputId": "7d91cb7c-469b-4342-c3ba-6d2fe3310804"
      },
      "source": [
        "d[\"headerLocationGranularity\"], d[\"headerLocation\"], d[\"headerFullLocation\"]"
      ],
      "execution_count": 25,
      "outputs": [
        {
          "output_type": "execute_result",
          "data": {
            "text/plain": [
              "('city', 'Mumbai', 'Mumbai')"
            ]
          },
          "metadata": {
            "tags": []
          },
          "execution_count": 25
        }
      ]
    },
    {
      "cell_type": "code",
      "metadata": {
        "id": "s4hPn4ZXr2cL",
        "colab_type": "code",
        "colab": {
          "base_uri": "https://localhost:8080/",
          "height": 68
        },
        "outputId": "85fa2950-b685-4c35-e206-9479f95fd981"
      },
      "source": [
        "d[\"suggestedBounds\"], d[\"totalResults\"]"
      ],
      "execution_count": 26,
      "outputs": [
        {
          "output_type": "execute_result",
          "data": {
            "text/plain": [
              "({'ne': {'lat': 19.1012303370743, 'lng': 72.91083283978776},\n",
              "  'sw': {'lat': 19.04919165771122, 'lng': 72.859230847915}},\n",
              " 59)"
            ]
          },
          "metadata": {
            "tags": []
          },
          "execution_count": 26
        }
      ]
    },
    {
      "cell_type": "code",
      "metadata": {
        "id": "2xEjcqA-r2fg",
        "colab_type": "code",
        "colab": {
          "base_uri": "https://localhost:8080/",
          "height": 187
        },
        "outputId": "1fc93fa8-9406-46d3-a683-53a844921fd2"
      },
      "source": [
        "d[\"geocode\"]"
      ],
      "execution_count": 27,
      "outputs": [
        {
          "output_type": "execute_result",
          "data": {
            "text/plain": [
              "{'cc': 'IN',\n",
              " 'center': {'lat': 19.07283, 'lng': 72.88261},\n",
              " 'displayString': 'Mumbai, Mahārāshtra, India',\n",
              " 'geometry': {'bounds': {'ne': {'lat': 19.270308999589393,\n",
              "    'lng': 72.97958690519049},\n",
              "   'sw': {'lat': 18.89376311943323, 'lng': 72.7753930782989}}},\n",
              " 'longId': '72057594039203275',\n",
              " 'slug': 'mumbai',\n",
              " 'what': '',\n",
              " 'where': 'mumbai'}"
            ]
          },
          "metadata": {
            "tags": []
          },
          "execution_count": 27
        }
      ]
    },
    {
      "cell_type": "markdown",
      "metadata": {
        "id": "SQverAr-4XKK",
        "colab_type": "text"
      },
      "source": [
        "# ***We start creating group including information which is recommended.***"
      ]
    },
    {
      "cell_type": "code",
      "metadata": {
        "id": "tqq1DiCNsK8d",
        "colab_type": "code",
        "colab": {
          "base_uri": "https://localhost:8080/",
          "height": 34
        },
        "outputId": "fceb224a-a076-490a-f476-2a78af9f7334"
      },
      "source": [
        "d[\"groups\"][0].keys()"
      ],
      "execution_count": 28,
      "outputs": [
        {
          "output_type": "execute_result",
          "data": {
            "text/plain": [
              "dict_keys(['type', 'name', 'items'])"
            ]
          },
          "metadata": {
            "tags": []
          },
          "execution_count": 28
        }
      ]
    },
    {
      "cell_type": "code",
      "metadata": {
        "id": "b4IPD66FsLAP",
        "colab_type": "code",
        "colab": {
          "base_uri": "https://localhost:8080/",
          "height": 34
        },
        "outputId": "2e265e9c-88b8-465a-dd5d-13d924fa1e6e"
      },
      "source": [
        "d[\"groups\"][0][\"type\"], d[\"groups\"][0][\"name\"]"
      ],
      "execution_count": 29,
      "outputs": [
        {
          "output_type": "execute_result",
          "data": {
            "text/plain": [
              "('Recommended Places', 'recommended')"
            ]
          },
          "metadata": {
            "tags": []
          },
          "execution_count": 29
        }
      ]
    },
    {
      "cell_type": "markdown",
      "metadata": {
        "id": "b-GFMeLM4gHY",
        "colab_type": "text"
      },
      "source": [
        "# ***Creating items of objects coffee shop and their attributes - id, address, name, etc***"
      ]
    },
    {
      "cell_type": "code",
      "metadata": {
        "id": "lSiHEdTnsLDl",
        "colab_type": "code",
        "colab": {
          "base_uri": "https://localhost:8080/",
          "height": 561
        },
        "outputId": "285aabc7-fc7d-4150-e158-de9648f6f319"
      },
      "source": [
        "items = d[\"groups\"][0][\"items\"]\n",
        "print(\"number of items: %i\" % len(items))\n",
        "items[0]"
      ],
      "execution_count": 30,
      "outputs": [
        {
          "output_type": "stream",
          "text": [
            "number of items: 59\n"
          ],
          "name": "stdout"
        },
        {
          "output_type": "execute_result",
          "data": {
            "text/plain": [
              "{'reasons': {'count': 0,\n",
              "  'items': [{'reasonName': 'globalInteractionReason',\n",
              "    'summary': 'This spot is popular',\n",
              "    'type': 'general'}]},\n",
              " 'referralId': 'e-5-5286f821498e858fbcaef672-0',\n",
              " 'venue': {'categories': [{'icon': {'prefix': 'https://ss3.4sqi.net/img/categories_v2/food/coffeeshop_',\n",
              "     'suffix': '.png'},\n",
              "    'id': '4bf58dd8d48988d1e0931735',\n",
              "    'name': 'Coffee Shop',\n",
              "    'pluralName': 'Coffee Shops',\n",
              "    'primary': True,\n",
              "    'shortName': 'Coffee Shop'}],\n",
              "  'id': '5286f821498e858fbcaef672',\n",
              "  'location': {'address': 'Main Rd, Bandra Kurla Complex',\n",
              "   'cc': 'IN',\n",
              "   'city': 'Mumbai',\n",
              "   'country': 'India',\n",
              "   'crossStreet': 'BKC',\n",
              "   'formattedAddress': ['Main Rd, Bandra Kurla Complex (BKC)',\n",
              "    'Mumbai 400051',\n",
              "    'Mahārāshtra',\n",
              "    'India'],\n",
              "   'labeledLatLngs': [{'label': 'display',\n",
              "     'lat': 19.069457203343983,\n",
              "     'lng': 72.86937454370329}],\n",
              "   'lat': 19.069457203343983,\n",
              "   'lng': 72.86937454370329,\n",
              "   'postalCode': '400051',\n",
              "   'state': 'Mahārāshtra'},\n",
              "  'name': 'Starbucks Coffee: A Tata Alliance',\n",
              "  'photos': {'count': 0, 'groups': []}}}"
            ]
          },
          "metadata": {
            "tags": []
          },
          "execution_count": 30
        }
      ]
    },
    {
      "cell_type": "markdown",
      "metadata": {
        "id": "9cucyGdG4oxf",
        "colab_type": "text"
      },
      "source": [
        "***Testing by calling an item***"
      ]
    },
    {
      "cell_type": "code",
      "metadata": {
        "id": "PNpuvbwMsZQb",
        "colab_type": "code",
        "colab": {
          "base_uri": "https://localhost:8080/",
          "height": 425
        },
        "outputId": "a1c33702-4536-43a6-aed2-a9e1a4926607"
      },
      "source": [
        "items[2]"
      ],
      "execution_count": 31,
      "outputs": [
        {
          "output_type": "execute_result",
          "data": {
            "text/plain": [
              "{'reasons': {'count': 0,\n",
              "  'items': [{'reasonName': 'globalInteractionReason',\n",
              "    'summary': 'This spot is popular',\n",
              "    'type': 'general'}]},\n",
              " 'referralId': 'e-5-54a579fc498efd1a46508d45-2',\n",
              " 'venue': {'categories': [{'icon': {'prefix': 'https://ss3.4sqi.net/img/categories_v2/food/coffeeshop_',\n",
              "     'suffix': '.png'},\n",
              "    'id': '4bf58dd8d48988d1e0931735',\n",
              "    'name': 'Coffee Shop',\n",
              "    'pluralName': 'Coffee Shops',\n",
              "    'primary': True,\n",
              "    'shortName': 'Coffee Shop'}],\n",
              "  'id': '54a579fc498efd1a46508d45',\n",
              "  'location': {'address': 'Phoenix Market City',\n",
              "   'cc': 'IN',\n",
              "   'country': 'India',\n",
              "   'formattedAddress': ['Phoenix Market City', 'India'],\n",
              "   'labeledLatLngs': [{'label': 'display',\n",
              "     'lat': 19.086616005795815,\n",
              "     'lng': 72.88980467212124}],\n",
              "   'lat': 19.086616005795815,\n",
              "   'lng': 72.88980467212124},\n",
              "  'name': 'Starbucks',\n",
              "  'photos': {'count': 0, 'groups': []}}}"
            ]
          },
          "metadata": {
            "tags": []
          },
          "execution_count": 31
        }
      ]
    },
    {
      "cell_type": "markdown",
      "metadata": {
        "id": "kFKnR6rb4tVO",
        "colab_type": "text"
      },
      "source": [
        "***From the output we can identify necessary factors of what we will use later to consider the probability of launching our up-to-coming location.***"
      ]
    },
    {
      "cell_type": "markdown",
      "metadata": {
        "id": "zpE9h0ll4td2",
        "colab_type": "text"
      },
      "source": [
        "***Based on that we start to organize what we have got.***"
      ]
    },
    {
      "cell_type": "code",
      "metadata": {
        "id": "hfw-7AkTsZUb",
        "colab_type": "code",
        "colab": {
          "base_uri": "https://localhost:8080/",
          "height": 1000
        },
        "outputId": "fc5edb44-1cfe-4228-a33f-a27d02958073"
      },
      "source": [
        "df_raw = []\n",
        "for item in items:\n",
        "    venue = item[\"venue\"]\n",
        "    categories, uid, name, location = venue[\"categories\"], venue[\"id\"], venue[\"name\"], venue[\"location\"]\n",
        "    print(location)\n",
        "    assert len(categories) == 1\n",
        "    shortname = categories[0][\"shortName\"]\n",
        "    address =  ''\n",
        "    if hasattr(location, 'address'):\n",
        "      address = location['address']\n",
        "    if not \"postalCode\" in location:\n",
        "        continue\n",
        "    postalcode = location[\"postalCode\"]\n",
        "    lat = location[\"lat\"]\n",
        "    lng = location[\"lng\"]\n",
        "    datarow = (uid, name, shortname, address, postalcode, lat, lng)\n",
        "    df_raw.append(datarow)\n",
        "df = pd.DataFrame(df_raw, columns=[\"uid\", \"name\", \"shortname\", \"address\", \"postalcode\", \"lat\", \"lng\"])\n",
        "print(\"found %i cafes\" % len(df))\n",
        "df.head()"
      ],
      "execution_count": 32,
      "outputs": [
        {
          "output_type": "stream",
          "text": [
            "{'address': 'Main Rd, Bandra Kurla Complex', 'crossStreet': 'BKC', 'lat': 19.069457203343983, 'lng': 72.86937454370329, 'labeledLatLngs': [{'label': 'display', 'lat': 19.069457203343983, 'lng': 72.86937454370329}], 'postalCode': '400051', 'cc': 'IN', 'city': 'Mumbai', 'state': 'Mahārāshtra', 'country': 'India', 'formattedAddress': ['Main Rd, Bandra Kurla Complex (BKC)', 'Mumbai 400051', 'Mahārāshtra', 'India']}\n",
            "{'address': 'C 57 Bandra Kurla Complex, Bandra East, Maharashtra', 'crossStreet': 'Bandra East', 'lat': 19.0674478, 'lng': 72.8690057, 'labeledLatLngs': [{'label': 'display', 'lat': 19.0674478, 'lng': 72.8690057}], 'postalCode': '400051', 'cc': 'IN', 'city': 'Mumbai', 'state': 'Mahārāshtra', 'country': 'India', 'formattedAddress': ['C 57 Bandra Kurla Complex, Bandra East, Maharashtra (Bandra East)', 'Mumbai 400051', 'Mahārāshtra', 'India']}\n",
            "{'address': 'Phoenix Market City', 'lat': 19.086616005795815, 'lng': 72.88980467212124, 'labeledLatLngs': [{'label': 'display', 'lat': 19.086616005795815, 'lng': 72.88980467212124}], 'cc': 'IN', 'country': 'India', 'formattedAddress': ['Phoenix Market City', 'India']}\n",
            "{'address': 'Phoenix Market City Mall', 'crossStreet': 'Kurla', 'lat': 19.086129740777498, 'lng': 72.88908992231363, 'labeledLatLngs': [{'label': 'display', 'lat': 19.086129740777498, 'lng': 72.88908992231363}], 'cc': 'IN', 'city': 'Mumbai', 'state': 'Mahārāshtra', 'country': 'India', 'formattedAddress': ['Phoenix Market City Mall (Kurla)', 'Mumbai', 'Mahārāshtra', 'India']}\n",
            "{'address': '1st floor, Phoenix Marketcity', 'crossStreet': 'L.B.S Marg, Kurla (w)', 'lat': 19.08633818631618, 'lng': 72.88907314095658, 'labeledLatLngs': [{'label': 'display', 'lat': 19.08633818631618, 'lng': 72.88907314095658}], 'postalCode': '400070', 'cc': 'IN', 'city': 'Mumbai', 'state': 'Mahārāshtra', 'country': 'India', 'formattedAddress': ['1st floor, Phoenix Marketcity (L.B.S Marg, Kurla (w))', 'Mumbai 400070', 'Mahārāshtra', 'India']}\n",
            "{'address': 'Phoenix Market City, Kurla', 'lat': 19.086899678424196, 'lng': 72.8888476414796, 'labeledLatLngs': [{'label': 'display', 'lat': 19.086899678424196, 'lng': 72.8888476414796}], 'cc': 'IN', 'city': 'Mumbai', 'state': 'Mahārāshtra', 'country': 'India', 'formattedAddress': ['Phoenix Market City, Kurla', 'Mumbai', 'Mahārāshtra', 'India']}\n",
            "{'address': 'Phoenix Market City', 'lat': 19.08603961677672, 'lng': 72.88902646783305, 'labeledLatLngs': [{'label': 'display', 'lat': 19.08603961677672, 'lng': 72.88902646783305}], 'cc': 'IN', 'city': 'Mumbai', 'state': 'Mahārāshtra', 'country': 'India', 'formattedAddress': ['Phoenix Market City', 'Mumbai', 'Mahārāshtra', 'India']}\n",
            "{'address': 'Phoenix Marketcity, Mumbai', 'lat': 19.086599238514903, 'lng': 72.8897970821344, 'labeledLatLngs': [{'label': 'display', 'lat': 19.086599238514903, 'lng': 72.8897970821344}], 'cc': 'IN', 'country': 'India', 'formattedAddress': ['Phoenix Marketcity, Mumbai', 'India']}\n",
            "{'address': 'The Capital', 'lat': 19.063456936971313, 'lng': 72.86157639300012, 'labeledLatLngs': [{'label': 'display', 'lat': 19.063456936971313, 'lng': 72.86157639300012}], 'cc': 'IN', 'country': 'India', 'formattedAddress': ['The Capital', 'India']}\n",
            "{'address': '1st Rd, Chembur', 'lat': 19.061790989789696, 'lng': 72.89947914536658, 'labeledLatLngs': [{'label': 'display', 'lat': 19.061790989789696, 'lng': 72.89947914536658}], 'postalCode': '400 071', 'cc': 'IN', 'city': 'Mumbai', 'state': 'Mahārāshtra', 'country': 'India', 'formattedAddress': ['1st Rd, Chembur', 'Mumbai 400 071', 'Mahārāshtra', 'India']}\n",
            "{'address': 'Level 1, Phoenix Marketcity Mall, LBS Marg', 'crossStreet': 'Kurla (West)', 'lat': 19.086636790332673, 'lng': 72.88987597130591, 'labeledLatLngs': [{'label': 'display', 'lat': 19.086636790332673, 'lng': 72.88987597130591}], 'postalCode': '400001', 'cc': 'IN', 'city': 'Mumbai', 'state': 'Mahārāshtra', 'country': 'India', 'formattedAddress': ['Level 1, Phoenix Marketcity Mall, LBS Marg (Kurla (West))', 'Mumbai 400001', 'Mahārāshtra', 'India']}\n",
            "{'address': 'Platina, Bandra Kurla Complex', 'lat': 19.073535472373308, 'lng': 72.87251619807277, 'labeledLatLngs': [{'label': 'display', 'lat': 19.073535472373308, 'lng': 72.87251619807277}], 'postalCode': '400051', 'cc': 'IN', 'city': 'Mumbai', 'state': 'Mahārāshtra', 'country': 'India', 'formattedAddress': ['Platina, Bandra Kurla Complex', 'Mumbai 400051', 'Mahārāshtra', 'India']}\n",
            "{'address': 'C-56, G Block, Bandra Kurla Complex', 'lat': 19.066447147928148, 'lng': 72.86722947753331, 'labeledLatLngs': [{'label': 'display', 'lat': 19.066447147928148, 'lng': 72.86722947753331}], 'postalCode': '400051', 'cc': 'IN', 'city': 'Mumbai', 'state': 'Mahārāshtra', 'country': 'India', 'formattedAddress': ['C-56, G Block, Bandra Kurla Complex', 'Mumbai 400051', 'Mahārāshtra', 'India']}\n",
            "{'address': 'Lobby Area SOFITEL MUMBAI BKC', 'crossStreet': 'C 57 Block G, Bandra Kurla Complex', 'lat': 19.067484338537998, 'lng': 72.86928510073042, 'labeledLatLngs': [{'label': 'display', 'lat': 19.067484338537998, 'lng': 72.86928510073042}], 'postalCode': '400 098', 'cc': 'IN', 'city': 'Mumbai', 'state': 'Mahārāshtra', 'country': 'India', 'formattedAddress': ['Lobby Area SOFITEL MUMBAI BKC (C 57 Block G, Bandra Kurla Complex)', 'Mumbai 400 098', 'Mahārāshtra', 'India']}\n",
            "{'lat': 19.070946, 'lng': 72.875999, 'labeledLatLngs': [{'label': 'display', 'lat': 19.070946, 'lng': 72.875999}], 'cc': 'IN', 'country': 'India', 'formattedAddress': ['India']}\n",
            "{'address': 'Pheonix Market City', 'lat': 19.08595182368827, 'lng': 72.88909569090195, 'labeledLatLngs': [{'label': 'display', 'lat': 19.08595182368827, 'lng': 72.88909569090195}], 'cc': 'IN', 'country': 'India', 'formattedAddress': ['Pheonix Market City', 'India']}\n",
            "{'address': 'Phoenix Marketcity', 'crossStreet': 'Kalani, Kurla', 'lat': 19.086454610089206, 'lng': 72.88931587903035, 'labeledLatLngs': [{'label': 'display', 'lat': 19.086454610089206, 'lng': 72.88931587903035}], 'postalCode': '400070', 'cc': 'IN', 'city': 'Mumbai', 'state': 'Mahārāshtra', 'country': 'India', 'formattedAddress': ['Phoenix Marketcity (Kalani, Kurla)', 'Mumbai 400070', 'Mahārāshtra', 'India']}\n",
            "{'address': 'R-City Mall, Level 3, LBS Road, Ghatkopar West', 'lat': 19.08781197164128, 'lng': 72.90490865707397, 'labeledLatLngs': [{'label': 'display', 'lat': 19.08781197164128, 'lng': 72.90490865707397}], 'postalCode': '400086', 'cc': 'IN', 'city': 'Mumbai', 'state': 'Mahārāshtra', 'country': 'India', 'formattedAddress': ['R-City Mall, Level 3, LBS Road, Ghatkopar West', 'Mumbai 400086', 'Mahārāshtra', 'India']}\n",
            "{'lat': 19.091774, 'lng': 72.868675, 'labeledLatLngs': [{'label': 'display', 'lat': 19.091774, 'lng': 72.868675}], 'cc': 'IN', 'city': 'Mumbai', 'state': 'Mahārāshtra', 'country': 'India', 'formattedAddress': ['Mumbai', 'Mahārāshtra', 'India']}\n",
            "{'address': 'Sakinaka', 'crossStreet': 'Andheri kurla road', 'lat': 19.086113772582202, 'lng': 72.89341632470992, 'labeledLatLngs': [{'label': 'display', 'lat': 19.086113772582202, 'lng': 72.89341632470992}], 'cc': 'IN', 'city': 'Mumbai', 'state': 'Mahārāshtra', 'country': 'India', 'formattedAddress': ['Sakinaka (Andheri kurla road)', 'Mumbai', 'Mahārāshtra', 'India']}\n",
            "{'address': 'Terminal 2, Chhatrapati Shivaji International Airport', 'lat': 19.09636902304012, 'lng': 72.87455677986145, 'labeledLatLngs': [{'label': 'display', 'lat': 19.09636902304012, 'lng': 72.87455677986145}], 'postalCode': '400099', 'cc': 'IN', 'neighborhood': 'Airport', 'city': 'Mumbai', 'state': 'Mahārāshtra', 'country': 'India', 'formattedAddress': ['Terminal 2, Chhatrapati Shivaji International Airport', 'Mumbai 400099', 'Mahārāshtra', 'India']}\n",
            "{'address': 'Sindhi society', 'crossStreet': 'Chembur', 'lat': 19.05223677401295, 'lng': 72.8911837233592, 'labeledLatLngs': [{'label': 'display', 'lat': 19.05223677401295, 'lng': 72.8911837233592}], 'cc': 'IN', 'city': 'Mumbai', 'state': 'Mahārāshtra', 'country': 'India', 'formattedAddress': ['Sindhi society (Chembur)', 'Mumbai', 'Mahārāshtra', 'India']}\n",
            "{'address': 'Shiv Dham, Chunabhatti', 'crossStreet': 'I C Colony Extension', 'lat': 19.056184957501358, 'lng': 72.87587119999884, 'labeledLatLngs': [{'label': 'display', 'lat': 19.056184957501358, 'lng': 72.87587119999884}], 'postalCode': '400103', 'cc': 'IN', 'city': 'Mumbai', 'state': 'Mahārāshtra', 'country': 'India', 'formattedAddress': ['Shiv Dham, Chunabhatti (I C Colony Extension)', 'Mumbai 400103', 'Mahārāshtra', 'India']}\n",
            "{'address': 'Parinee Creacenzo Building', 'crossStreet': 'G-Block, Bandra Kurla Complex', 'lat': 19.061174060596354, 'lng': 72.86722021200485, 'labeledLatLngs': [{'label': 'display', 'lat': 19.061174060596354, 'lng': 72.86722021200485}], 'postalCode': '400051', 'cc': 'IN', 'city': 'Mumbai', 'state': 'Mahārāshtra', 'country': 'India', 'formattedAddress': ['Parinee Creacenzo Building (G-Block, Bandra Kurla Complex)', 'Mumbai 400051', 'Mahārāshtra', 'India']}\n",
            "{'address': 'Sofitel Mumbai BKC', 'lat': 19.067551806967018, 'lng': 72.86940992190384, 'labeledLatLngs': [{'label': 'display', 'lat': 19.067551806967018, 'lng': 72.86940992190384}], 'postalCode': '400051', 'cc': 'IN', 'city': 'Mumbai', 'state': 'Mahārāshtra', 'country': 'India', 'formattedAddress': ['Sofitel Mumbai BKC', 'Mumbai 400051', 'Mahārāshtra', 'India']}\n",
            "{'address': 'Phoenix Marketcity', 'lat': 19.085614196063524, 'lng': 72.88787077729548, 'labeledLatLngs': [{'label': 'display', 'lat': 19.085614196063524, 'lng': 72.88787077729548}], 'postalCode': '400070', 'cc': 'IN', 'city': 'Mumbai', 'state': 'Mahārāshtra', 'country': 'India', 'formattedAddress': ['Phoenix Marketcity', 'Mumbai 400070', 'Mahārāshtra', 'India']}\n",
            "{'address': 'Meeters & Greeters Area, International Dep.', 'crossStreet': 'Mumbai International Airport', 'lat': 19.095420214942347, 'lng': 72.87463917515555, 'labeledLatLngs': [{'label': 'display', 'lat': 19.095420214942347, 'lng': 72.87463917515555}], 'cc': 'IN', 'city': 'Mumbai', 'state': 'Mahārāshtra', 'country': 'India', 'formattedAddress': ['Meeters & Greeters Area, International Dep. (Mumbai International Airport)', 'Mumbai', 'Mahārāshtra', 'India']}\n",
            "{'address': 'Phoenix MarketCity, Ground Floor, LBS Road,', 'crossStreet': 'Kurla', 'lat': 19.085849599627952, 'lng': 72.88826693560823, 'labeledLatLngs': [{'label': 'display', 'lat': 19.085849599627952, 'lng': 72.88826693560823}], 'postalCode': '400070', 'cc': 'IN', 'city': 'Mumbai', 'state': 'Mahārāshtra', 'country': 'India', 'formattedAddress': ['Phoenix MarketCity, Ground Floor, LBS Road, (Kurla)', 'Mumbai 400070', 'Mahārāshtra', 'India']}\n",
            "{'lat': 19.086306, 'lng': 72.88873, 'labeledLatLngs': [{'label': 'display', 'lat': 19.086306, 'lng': 72.88873}], 'postalCode': '400070', 'cc': 'IN', 'city': 'Mumbai', 'state': 'Mahārāshtra', 'country': 'India', 'formattedAddress': ['Mumbai 400070', 'Mahārāshtra', 'India']}\n",
            "{'address': 'Hotel Grand Central Building', 'crossStreet': 'Chembur', 'lat': 19.061513766081394, 'lng': 72.90042746942959, 'labeledLatLngs': [{'label': 'display', 'lat': 19.061513766081394, 'lng': 72.90042746942959}], 'cc': 'IN', 'city': 'Mumbai', 'state': 'Mahārāshtra', 'country': 'India', 'formattedAddress': ['Hotel Grand Central Building (Chembur)', 'Mumbai', 'Mahārāshtra', 'India']}\n",
            "{'address': 'Phoenix Marketcity', 'lat': 19.086524, 'lng': 72.889117, 'labeledLatLngs': [{'label': 'display', 'lat': 19.086524, 'lng': 72.889117}], 'postalCode': '400070', 'cc': 'IN', 'city': 'Mumbai', 'state': 'Mahārāshtra', 'country': 'India', 'formattedAddress': ['Phoenix Marketcity', 'Mumbai 400070', 'Mahārāshtra', 'India']}\n",
            "{'address': 'Gate C, Sahar International Airport', 'lat': 19.095869039842196, 'lng': 72.87556797176181, 'labeledLatLngs': [{'label': 'display', 'lat': 19.095869039842196, 'lng': 72.87556797176181}], 'cc': 'IN', 'city': 'Mumbai', 'state': 'Mahārāshtra', 'country': 'India', 'formattedAddress': ['Gate C, Sahar International Airport', 'Mumbai', 'Mahārāshtra', 'India']}\n",
            "{'address': 'Near Diamond Garden, Chembur East', 'crossStreet': 'S.T. Road, Chembur', 'lat': 19.05208967038006, 'lng': 72.90081048215892, 'labeledLatLngs': [{'label': 'display', 'lat': 19.05208967038006, 'lng': 72.90081048215892}], 'postalCode': '400050', 'cc': 'IN', 'city': 'Mumbai', 'state': 'Mahārāshtra', 'country': 'India', 'formattedAddress': ['Near Diamond Garden, Chembur East (S.T. Road, Chembur)', 'Mumbai 400050', 'Mahārāshtra', 'India']}\n",
            "{'address': 'Phoenix Market City', 'crossStreet': 'Kurla', 'lat': 19.086441, 'lng': 72.889449, 'labeledLatLngs': [{'label': 'display', 'lat': 19.086441, 'lng': 72.889449}], 'cc': 'IN', 'city': 'Mumbai', 'state': 'Mahārāshtra', 'country': 'India', 'formattedAddress': ['Phoenix Market City (Kurla)', 'Mumbai', 'Mahārāshtra', 'India']}\n",
            "{'lat': 19.086593, 'lng': 72.889143, 'labeledLatLngs': [{'label': 'display', 'lat': 19.086593, 'lng': 72.889143}], 'cc': 'IN', 'country': 'India', 'formattedAddress': ['India']}\n",
            "{'address': 'Phoenix Marketcity', 'crossStreet': 'Kurla', 'lat': 19.08647376867282, 'lng': 72.88949372316179, 'labeledLatLngs': [{'label': 'display', 'lat': 19.08647376867282, 'lng': 72.88949372316179}], 'cc': 'IN', 'city': 'Mumbai', 'state': 'Mahārāshtra', 'country': 'India', 'formattedAddress': ['Phoenix Marketcity (Kurla)', 'Mumbai', 'Mahārāshtra', 'India']}\n",
            "{'address': 'Ground Floor, Sai Dham, Plot #55, Tilak Road', 'crossStreet': 'Jhulelal Chowk, Garodia Nagar, Ghatkopar (East)', 'lat': 19.074470672347484, 'lng': 72.90524496682802, 'labeledLatLngs': [{'label': 'display', 'lat': 19.074470672347484, 'lng': 72.90524496682802}], 'postalCode': '400077', 'cc': 'IN', 'city': 'Mumbai', 'state': 'Mahārāshtra', 'country': 'India', 'formattedAddress': ['Ground Floor, Sai Dham, Plot #55, Tilak Road (Jhulelal Chowk, Garodia Nagar, Ghatkopar (East))', 'Mumbai 400077', 'Mahārāshtra', 'India']}\n",
            "{'address': 'Vidyavihar', 'lat': 19.07839458410855, 'lng': 72.89807360988742, 'labeledLatLngs': [{'label': 'display', 'lat': 19.07839458410855, 'lng': 72.89807360988742}], 'cc': 'IN', 'city': 'Mumbai', 'state': 'Mahārāshtra', 'country': 'India', 'formattedAddress': ['Vidyavihar', 'Mumbai', 'Mahārāshtra', 'India']}\n",
            "{'address': 'Phoenix Market City, LBS Marg, Near BKC, Kurla West', 'lat': 19.086625644178234, 'lng': 72.88988706779166, 'labeledLatLngs': [{'label': 'display', 'lat': 19.086625644178234, 'lng': 72.88988706779166}], 'postalCode': '400070', 'cc': 'IN', 'city': 'Mumbai', 'state': 'Mahārāshtra', 'country': 'India', 'formattedAddress': ['Phoenix Market City, LBS Marg, Near BKC, Kurla West', 'Mumbai 400070', 'Mahārāshtra', 'India']}\n",
            "{'address': 'Opposite Sahakar Plaza, Tilak Nagar, Chembur (West)', 'lat': 19.068491833949594, 'lng': 72.89889632267005, 'labeledLatLngs': [{'label': 'display', 'lat': 19.068491833949594, 'lng': 72.89889632267005}], 'postalCode': '400089', 'cc': 'IN', 'city': 'Mumbai', 'state': 'Mahārāshtra', 'country': 'India', 'formattedAddress': ['Opposite Sahakar Plaza, Tilak Nagar, Chembur (West)', 'Mumbai 400089', 'Mahārāshtra', 'India']}\n",
            "{'lat': 19.094142362707583, 'lng': 72.8717546908553, 'labeledLatLngs': [{'label': 'display', 'lat': 19.094142362707583, 'lng': 72.8717546908553}], 'cc': 'IN', 'neighborhood': 'Airport', 'country': 'India', 'formattedAddress': ['India']}\n",
            "{'address': 'Mumbai Airport T2 Departure Level', 'lat': 19.096093533769487, 'lng': 72.87443726237026, 'labeledLatLngs': [{'label': 'display', 'lat': 19.096093533769487, 'lng': 72.87443726237026}], 'cc': 'IN', 'neighborhood': 'Airport', 'city': 'Mumbai', 'state': 'Mahārāshtra', 'country': 'India', 'formattedAddress': ['Mumbai Airport T2 Departure Level', 'Mumbai', 'Mahārāshtra', 'India']}\n",
            "{'address': 'Shop no 1&2,Ground floor,XLNC Chambers,', 'crossStreet': 'Sion Trombay Road,Chembur East,', 'lat': 19.05294042171337, 'lng': 72.89900592135446, 'labeledLatLngs': [{'label': 'display', 'lat': 19.05294042171337, 'lng': 72.89900592135446}], 'postalCode': '400071', 'cc': 'IN', 'city': 'Mumbai', 'state': 'Mahārāshtra', 'country': 'India', 'formattedAddress': ['Shop no 1&2,Ground floor,XLNC Chambers, (Sion Trombay Road,Chembur East,)', 'Mumbai 400071', 'Mahārāshtra', 'India']}\n",
            "{'address': 'Chhatrapati Shivaji International Airport', 'crossStreet': 'Andheri East', 'lat': 19.095844437195822, 'lng': 72.87590833732558, 'labeledLatLngs': [{'label': 'display', 'lat': 19.095844437195822, 'lng': 72.87590833732558}], 'cc': 'IN', 'city': 'Mumbai', 'state': 'Mahārāshtra', 'country': 'India', 'formattedAddress': ['Chhatrapati Shivaji International Airport (Andheri East)', 'Mumbai', 'Mahārāshtra', 'India']}\n",
            "{'lat': 19.07689512985453, 'lng': 72.90344285402551, 'labeledLatLngs': [{'label': 'display', 'lat': 19.07689512985453, 'lng': 72.90344285402551}], 'cc': 'IN', 'country': 'India', 'formattedAddress': ['India']}\n",
            "{'lat': 19.065180878962497, 'lng': 72.86184910990623, 'labeledLatLngs': [{'label': 'display', 'lat': 19.065180878962497, 'lng': 72.86184910990623}], 'cc': 'IN', 'country': 'India', 'formattedAddress': ['India']}\n",
            "{'address': 'One BKC', 'crossStreet': 'BKC', 'lat': 19.06049, 'lng': 72.864189, 'labeledLatLngs': [{'label': 'display', 'lat': 19.06049, 'lng': 72.864189}], 'cc': 'IN', 'city': 'Mumbai', 'state': 'Mahārāshtra', 'country': 'India', 'formattedAddress': ['One BKC (BKC)', 'Mumbai', 'Mahārāshtra', 'India']}\n",
            "{'address': 'Chappel Road', 'lat': 19.05155705222772, 'lng': 72.87840049090076, 'labeledLatLngs': [{'label': 'display', 'lat': 19.05155705222772, 'lng': 72.87840049090076}], 'postalCode': '400 050', 'cc': 'IN', 'city': 'Mumbai', 'state': 'Mahārāshtra', 'country': 'India', 'formattedAddress': ['Chappel Road', 'Mumbai 400 050', 'Mahārāshtra', 'India']}\n",
            "{'address': '308 Sky Lobby, 3rd Floor,The Capital Building', 'crossStreet': 'opposite ICICI Bank, BKC', 'lat': 19.063466577642554, 'lng': 72.86180872522866, 'labeledLatLngs': [{'label': 'display', 'lat': 19.063466577642554, 'lng': 72.86180872522866}], 'cc': 'IN', 'city': 'Mumbai', 'state': 'Mahārāshtra', 'country': 'India', 'formattedAddress': ['308 Sky Lobby, 3rd Floor,The Capital Building (opposite ICICI Bank, BKC)', 'Mumbai', 'Mahārāshtra', 'India']}\n",
            "{'address': 'Ground Floor, Godrej Jet Airways Building', 'crossStreet': 'BKC', 'lat': 19.059137, 'lng': 72.864637, 'labeledLatLngs': [{'label': 'display', 'lat': 19.059137, 'lng': 72.864637}], 'postalCode': '400051', 'cc': 'IN', 'city': 'Mumbai', 'state': 'Mahārāshtra', 'country': 'India', 'formattedAddress': ['Ground Floor, Godrej Jet Airways Building (BKC)', 'Mumbai 400051', 'Mahārāshtra', 'India']}\n",
            "{'address': 'Shop 2, Skyrise Apartments, A Wing,', 'crossStreet': 'Central Avenue Road, Chembur (E)', 'lat': 19.056178379899087, 'lng': 72.90048021480398, 'labeledLatLngs': [{'label': 'display', 'lat': 19.056178379899087, 'lng': 72.90048021480398}], 'postalCode': '400071', 'cc': 'IN', 'city': 'Mumbai', 'state': 'Mahārāshtra', 'country': 'India', 'formattedAddress': ['Shop 2, Skyrise Apartments, A Wing, (Central Avenue Road, Chembur (E))', 'Mumbai 400071', 'Mahārāshtra', 'India']}\n",
            "{'address': 'CSIA', 'lat': 19.09523351560935, 'lng': 72.87431001663208, 'labeledLatLngs': [{'label': 'display', 'lat': 19.09523351560935, 'lng': 72.87431001663208}], 'cc': 'IN', 'city': 'Mumbai', 'state': 'Mahārāshtra', 'country': 'India', 'formattedAddress': ['CSIA', 'Mumbai', 'Mahārāshtra', 'India']}\n",
            "{'address': 'Domestic Departure', 'crossStreet': 'Chhatrapati Shivaji International Airport', 'lat': 19.095910030916833, 'lng': 72.87448918282202, 'labeledLatLngs': [{'label': 'display', 'lat': 19.095910030916833, 'lng': 72.87448918282202}], 'cc': 'IN', 'city': 'Mumbai', 'state': 'Mahārāshtra', 'country': 'India', 'formattedAddress': ['Domestic Departure (Chhatrapati Shivaji International Airport)', 'Mumbai', 'Mahārāshtra', 'India']}\n",
            "{'address': '10, Paras Building, 60 ft. road,', 'crossStreet': 'Ghatkopar (E)', 'lat': 19.08115241819223, 'lng': 72.90848729470262, 'labeledLatLngs': [{'label': 'display', 'lat': 19.08115241819223, 'lng': 72.90848729470262}], 'postalCode': '400077', 'cc': 'IN', 'city': 'Mumbai', 'state': 'Mahārāshtra', 'country': 'India', 'formattedAddress': ['10, Paras Building, 60 ft. road, (Ghatkopar (E))', 'Mumbai 400077', 'Mahārāshtra', 'India']}\n",
            "{'lat': 19.097836, 'lng': 72.87501, 'labeledLatLngs': [{'label': 'display', 'lat': 19.097836, 'lng': 72.87501}], 'cc': 'IN', 'country': 'India', 'formattedAddress': ['India']}\n",
            "{'lat': 19.09796, 'lng': 72.87508, 'labeledLatLngs': [{'label': 'display', 'lat': 19.09796, 'lng': 72.87508}], 'cc': 'IN', 'country': 'India', 'formattedAddress': ['India']}\n",
            "{'lat': 19.05253, 'lng': 72.900029, 'labeledLatLngs': [{'label': 'display', 'lat': 19.05253, 'lng': 72.900029}], 'postalCode': '400071', 'cc': 'IN', 'city': 'Mumbai', 'state': 'Mahārāshtra', 'country': 'India', 'formattedAddress': ['Mumbai 400071', 'Mahārāshtra', 'India']}\n",
            "{'lat': 19.098864942557796, 'lng': 72.87722364380774, 'labeledLatLngs': [{'label': 'display', 'lat': 19.098864942557796, 'lng': 72.87722364380774}], 'cc': 'IN', 'country': 'India', 'formattedAddress': ['India']}\n",
            "{'address': 'Terminal 2', 'lat': 19.09706359775067, 'lng': 72.87422958048617, 'labeledLatLngs': [{'label': 'display', 'lat': 19.09706359775067, 'lng': 72.87422958048617}], 'postalCode': '400099', 'cc': 'IN', 'city': 'Mumbai', 'state': 'Mahārāshtra', 'country': 'India', 'formattedAddress': ['Terminal 2', 'Mumbai 400099', 'Mahārāshtra', 'India']}\n",
            "found 29 cafes\n"
          ],
          "name": "stdout"
        },
        {
          "output_type": "execute_result",
          "data": {
            "text/html": [
              "<div>\n",
              "<style scoped>\n",
              "    .dataframe tbody tr th:only-of-type {\n",
              "        vertical-align: middle;\n",
              "    }\n",
              "\n",
              "    .dataframe tbody tr th {\n",
              "        vertical-align: top;\n",
              "    }\n",
              "\n",
              "    .dataframe thead th {\n",
              "        text-align: right;\n",
              "    }\n",
              "</style>\n",
              "<table border=\"1\" class=\"dataframe\">\n",
              "  <thead>\n",
              "    <tr style=\"text-align: right;\">\n",
              "      <th></th>\n",
              "      <th>uid</th>\n",
              "      <th>name</th>\n",
              "      <th>shortname</th>\n",
              "      <th>address</th>\n",
              "      <th>postalcode</th>\n",
              "      <th>lat</th>\n",
              "      <th>lng</th>\n",
              "    </tr>\n",
              "  </thead>\n",
              "  <tbody>\n",
              "    <tr>\n",
              "      <th>0</th>\n",
              "      <td>5286f821498e858fbcaef672</td>\n",
              "      <td>Starbucks Coffee: A Tata Alliance</td>\n",
              "      <td>Coffee Shop</td>\n",
              "      <td></td>\n",
              "      <td>400051</td>\n",
              "      <td>19.069457</td>\n",
              "      <td>72.869375</td>\n",
              "    </tr>\n",
              "    <tr>\n",
              "      <th>1</th>\n",
              "      <td>4d9b39ed2ae860fc0f5a81cb</td>\n",
              "      <td>Sofitel Mumbai BKC</td>\n",
              "      <td>Hotel</td>\n",
              "      <td></td>\n",
              "      <td>400051</td>\n",
              "      <td>19.067448</td>\n",
              "      <td>72.869006</td>\n",
              "    </tr>\n",
              "    <tr>\n",
              "      <th>2</th>\n",
              "      <td>548fd811498ed58c1ff94909</td>\n",
              "      <td>212 All Day</td>\n",
              "      <td>Café</td>\n",
              "      <td></td>\n",
              "      <td>400070</td>\n",
              "      <td>19.086338</td>\n",
              "      <td>72.889073</td>\n",
              "    </tr>\n",
              "    <tr>\n",
              "      <th>3</th>\n",
              "      <td>4b0587cef964a5208aa222e3</td>\n",
              "      <td>Le Café</td>\n",
              "      <td>Café</td>\n",
              "      <td></td>\n",
              "      <td>400 071</td>\n",
              "      <td>19.061791</td>\n",
              "      <td>72.899479</td>\n",
              "    </tr>\n",
              "    <tr>\n",
              "      <th>4</th>\n",
              "      <td>4f5cbe23e4b082b23e41fd09</td>\n",
              "      <td>Mad Over Donuts</td>\n",
              "      <td>Donuts</td>\n",
              "      <td></td>\n",
              "      <td>400001</td>\n",
              "      <td>19.086637</td>\n",
              "      <td>72.889876</td>\n",
              "    </tr>\n",
              "  </tbody>\n",
              "</table>\n",
              "</div>"
            ],
            "text/plain": [
              "                        uid  ...        lng\n",
              "0  5286f821498e858fbcaef672  ...  72.869375\n",
              "1  4d9b39ed2ae860fc0f5a81cb  ...  72.869006\n",
              "2  548fd811498ed58c1ff94909  ...  72.889073\n",
              "3  4b0587cef964a5208aa222e3  ...  72.899479\n",
              "4  4f5cbe23e4b082b23e41fd09  ...  72.889876\n",
              "\n",
              "[5 rows x 7 columns]"
            ]
          },
          "metadata": {
            "tags": []
          },
          "execution_count": 32
        }
      ]
    },
    {
      "cell_type": "markdown",
      "metadata": {
        "id": "sp_Qz0o443Gy",
        "colab_type": "text"
      },
      "source": [
        "**As we can see that there are many coffee shops without address we need to execute hasattr() to determine if each object (coffeeshop) has a attribute (address).\n",
        "Next step we will execute a very important part - get coordinates of Mumbai and create folium map which will help visualize what we have got from data.**"
      ]
    },
    {
      "cell_type": "code",
      "metadata": {
        "id": "yNDHKxTctSHu",
        "colab_type": "code",
        "colab": {
          "base_uri": "https://localhost:8080/",
          "height": 153
        },
        "outputId": "273d3df8-ffd4-479b-b960-593da50ebc76"
      },
      "source": [
        "df.count()"
      ],
      "execution_count": 37,
      "outputs": [
        {
          "output_type": "execute_result",
          "data": {
            "text/plain": [
              "uid           29\n",
              "name          29\n",
              "shortname     29\n",
              "address       29\n",
              "postalcode    29\n",
              "lat           29\n",
              "lng           29\n",
              "dtype: int64"
            ]
          },
          "metadata": {
            "tags": []
          },
          "execution_count": 37
        }
      ]
    },
    {
      "cell_type": "code",
      "metadata": {
        "id": "Q4m4XNnmuyNa",
        "colab_type": "code",
        "colab": {
          "base_uri": "https://localhost:8080/",
          "height": 390
        },
        "outputId": "f91086be-903c-4835-d74d-f1c026169d02"
      },
      "source": [
        "df.describe(include='all')"
      ],
      "execution_count": 42,
      "outputs": [
        {
          "output_type": "execute_result",
          "data": {
            "text/html": [
              "<div>\n",
              "<style scoped>\n",
              "    .dataframe tbody tr th:only-of-type {\n",
              "        vertical-align: middle;\n",
              "    }\n",
              "\n",
              "    .dataframe tbody tr th {\n",
              "        vertical-align: top;\n",
              "    }\n",
              "\n",
              "    .dataframe thead th {\n",
              "        text-align: right;\n",
              "    }\n",
              "</style>\n",
              "<table border=\"1\" class=\"dataframe\">\n",
              "  <thead>\n",
              "    <tr style=\"text-align: right;\">\n",
              "      <th></th>\n",
              "      <th>uid</th>\n",
              "      <th>name</th>\n",
              "      <th>shortname</th>\n",
              "      <th>address</th>\n",
              "      <th>postalcode</th>\n",
              "      <th>lat</th>\n",
              "      <th>lng</th>\n",
              "    </tr>\n",
              "  </thead>\n",
              "  <tbody>\n",
              "    <tr>\n",
              "      <th>count</th>\n",
              "      <td>29</td>\n",
              "      <td>29</td>\n",
              "      <td>29</td>\n",
              "      <td>29</td>\n",
              "      <td>29</td>\n",
              "      <td>29.000000</td>\n",
              "      <td>29.000000</td>\n",
              "    </tr>\n",
              "    <tr>\n",
              "      <th>unique</th>\n",
              "      <td>29</td>\n",
              "      <td>24</td>\n",
              "      <td>7</td>\n",
              "      <td>1</td>\n",
              "      <td>13</td>\n",
              "      <td>NaN</td>\n",
              "      <td>NaN</td>\n",
              "    </tr>\n",
              "    <tr>\n",
              "      <th>top</th>\n",
              "      <td>4f87dd5ae4b0abaa012dbab3</td>\n",
              "      <td>Cafe Coffee Day</td>\n",
              "      <td>Café</td>\n",
              "      <td></td>\n",
              "      <td>400070</td>\n",
              "      <td>NaN</td>\n",
              "      <td>NaN</td>\n",
              "    </tr>\n",
              "    <tr>\n",
              "      <th>freq</th>\n",
              "      <td>1</td>\n",
              "      <td>4</td>\n",
              "      <td>12</td>\n",
              "      <td>29</td>\n",
              "      <td>7</td>\n",
              "      <td>NaN</td>\n",
              "      <td>NaN</td>\n",
              "    </tr>\n",
              "    <tr>\n",
              "      <th>mean</th>\n",
              "      <td>NaN</td>\n",
              "      <td>NaN</td>\n",
              "      <td>NaN</td>\n",
              "      <td>NaN</td>\n",
              "      <td>NaN</td>\n",
              "      <td>19.072801</td>\n",
              "      <td>72.885559</td>\n",
              "    </tr>\n",
              "    <tr>\n",
              "      <th>std</th>\n",
              "      <td>NaN</td>\n",
              "      <td>NaN</td>\n",
              "      <td>NaN</td>\n",
              "      <td>NaN</td>\n",
              "      <td>NaN</td>\n",
              "      <td>0.014312</td>\n",
              "      <td>0.013810</td>\n",
              "    </tr>\n",
              "    <tr>\n",
              "      <th>min</th>\n",
              "      <td>NaN</td>\n",
              "      <td>NaN</td>\n",
              "      <td>NaN</td>\n",
              "      <td>NaN</td>\n",
              "      <td>NaN</td>\n",
              "      <td>19.051557</td>\n",
              "      <td>72.864637</td>\n",
              "    </tr>\n",
              "    <tr>\n",
              "      <th>25%</th>\n",
              "      <td>NaN</td>\n",
              "      <td>NaN</td>\n",
              "      <td>NaN</td>\n",
              "      <td>NaN</td>\n",
              "      <td>NaN</td>\n",
              "      <td>19.061174</td>\n",
              "      <td>72.872516</td>\n",
              "    </tr>\n",
              "    <tr>\n",
              "      <th>50%</th>\n",
              "      <td>NaN</td>\n",
              "      <td>NaN</td>\n",
              "      <td>NaN</td>\n",
              "      <td>NaN</td>\n",
              "      <td>NaN</td>\n",
              "      <td>19.069457</td>\n",
              "      <td>72.888730</td>\n",
              "    </tr>\n",
              "    <tr>\n",
              "      <th>75%</th>\n",
              "      <td>NaN</td>\n",
              "      <td>NaN</td>\n",
              "      <td>NaN</td>\n",
              "      <td>NaN</td>\n",
              "      <td>NaN</td>\n",
              "      <td>19.086338</td>\n",
              "      <td>72.899006</td>\n",
              "    </tr>\n",
              "    <tr>\n",
              "      <th>max</th>\n",
              "      <td>NaN</td>\n",
              "      <td>NaN</td>\n",
              "      <td>NaN</td>\n",
              "      <td>NaN</td>\n",
              "      <td>NaN</td>\n",
              "      <td>19.097064</td>\n",
              "      <td>72.908487</td>\n",
              "    </tr>\n",
              "  </tbody>\n",
              "</table>\n",
              "</div>"
            ],
            "text/plain": [
              "                             uid             name  ...        lat        lng\n",
              "count                         29               29  ...  29.000000  29.000000\n",
              "unique                        29               24  ...        NaN        NaN\n",
              "top     4f87dd5ae4b0abaa012dbab3  Cafe Coffee Day  ...        NaN        NaN\n",
              "freq                           1                4  ...        NaN        NaN\n",
              "mean                         NaN              NaN  ...  19.072801  72.885559\n",
              "std                          NaN              NaN  ...   0.014312   0.013810\n",
              "min                          NaN              NaN  ...  19.051557  72.864637\n",
              "25%                          NaN              NaN  ...  19.061174  72.872516\n",
              "50%                          NaN              NaN  ...  19.069457  72.888730\n",
              "75%                          NaN              NaN  ...  19.086338  72.899006\n",
              "max                          NaN              NaN  ...  19.097064  72.908487\n",
              "\n",
              "[11 rows x 7 columns]"
            ]
          },
          "metadata": {
            "tags": []
          },
          "execution_count": 42
        }
      ]
    },
    {
      "cell_type": "code",
      "metadata": {
        "id": "w8isvlwosZYi",
        "colab_type": "code",
        "colab": {}
      },
      "source": [
        ""
      ],
      "execution_count": null,
      "outputs": []
    },
    {
      "cell_type": "code",
      "metadata": {
        "id": "g8KcIK14vsFS",
        "colab_type": "code",
        "colab": {
          "base_uri": "https://localhost:8080/",
          "height": 34
        },
        "outputId": "b6426270-1b89-472a-ef09-590c02efff6b"
      },
      "source": [
        "Mumbai_center = d[\"geocode\"][\"center\"]\n",
        "Mumbai_center"
      ],
      "execution_count": 43,
      "outputs": [
        {
          "output_type": "execute_result",
          "data": {
            "text/plain": [
              "{'lat': 19.07283, 'lng': 72.88261}"
            ]
          },
          "metadata": {
            "tags": []
          },
          "execution_count": 43
        }
      ]
    },
    {
      "cell_type": "code",
      "metadata": {
        "id": "6Z_7gWGlvy83",
        "colab_type": "code",
        "colab": {
          "base_uri": "https://localhost:8080/",
          "height": 763
        },
        "outputId": "97ce712b-432a-4d7d-c9b8-bfa1b575f787"
      },
      "source": [
        "from folium import plugins\n",
        "\n",
        "\n",
        "map_Mumbai = folium.Map(location=[19.07283, 72.88261], zoom_start=14)\n",
        "\n",
        "def add_markers(df):\n",
        "    for (j, row) in df.iterrows():\n",
        "        label = folium.Popup(row[\"name\"], parse_html=True)\n",
        "        folium.CircleMarker(\n",
        "            [row[\"lat\"], row[\"lng\"]],\n",
        "            radius=5,\n",
        "            popup=label,\n",
        "            color='red',\n",
        "            fill=True,\n",
        "            fill_color='#3186cc',\n",
        "            fill_opacity=0.7,\n",
        "            parse_html=False).add_to(map_Mumbai)\n",
        "\n",
        "add_markers(df)\n",
        "hm_data = df[[\"lat\", \"lng\"]].to_numpy().tolist()\n",
        "map_Mumbai.add_child(plugins.HeatMap(hm_data))\n",
        "\n",
        "map_Mumbai\n"
      ],
      "execution_count": 46,
      "outputs": [
        {
          "output_type": "execute_result",
          "data": {
            "text/html": [
              "<div style=\"width:100%;\"><div style=\"position:relative;width:100%;height:0;padding-bottom:60%;\"><span style=\"color:#565656\">Make this Notebook Trusted to load map: File -> Trust Notebook</span><iframe src=\"about:blank\" style=\"position:absolute;width:100%;height:100%;left:0;top:0;border:none !important;\" data-html=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 onload=\"this.contentDocument.open();this.contentDocument.write(atob(this.getAttribute('data-html')));this.contentDocument.close();\" allowfullscreen webkitallowfullscreen mozallowfullscreen></iframe></div></div>"
            ],
            "text/plain": [
              "<folium.folium.Map at 0x7f2aedd094e0>"
            ]
          },
          "metadata": {
            "tags": []
          },
          "execution_count": 46
        }
      ]
    },
    {
      "cell_type": "markdown",
      "metadata": {
        "id": "Ej0-EXBU5UO2",
        "colab_type": "text"
      },
      "source": [
        "**Above is our Mumbai with little red dots presenting different items.**\n",
        "***By spotting the clusters of items we can see which neighborhood has density of coffee business.***"
      ]
    },
    {
      "cell_type": "markdown",
      "metadata": {
        "id": "nLm0mwKl5nVE",
        "colab_type": "text"
      },
      "source": [
        "# ***3. Conclusion***\n",
        "\n",
        "We will need a location where we can catch out customers from \"hot\" location we have picked up from the map and stay in a certain distance so as to lessen the competivity of business."
      ]
    },
    {
      "cell_type": "code",
      "metadata": {
        "id": "9lpc4T2cwQc-",
        "colab_type": "code",
        "colab": {
          "base_uri": "https://localhost:8080/",
          "height": 763
        },
        "outputId": "ba934e0c-de9a-4234-8c6b-d79ac71e6fbe"
      },
      "source": [
        "lat = 19.07283\n",
        "lng = 72.88261\n",
        "map_Mumbai = folium.Map(location=[lat, lng], zoom_start=17)\n",
        "add_markers(df)\n",
        "folium.CircleMarker(\n",
        "    [lat, lng],\n",
        "    radius=15,\n",
        "    popup=\"Here it is\",\n",
        "    color='green',\n",
        "    fill=True,\n",
        "    fill_color='#3186cc',\n",
        "    fill_opacity=0.7,\n",
        "    parse_html=False).add_to(map_Mumbai)\n",
        "map_Mumbai"
      ],
      "execution_count": 48,
      "outputs": [
        {
          "output_type": "execute_result",
          "data": {
            "text/html": [
              "<div style=\"width:100%;\"><div style=\"position:relative;width:100%;height:0;padding-bottom:60%;\"><span style=\"color:#565656\">Make this Notebook Trusted to load map: File -> Trust Notebook</span><iframe src=\"about:blank\" style=\"position:absolute;width:100%;height:100%;left:0;top:0;border:none !important;\" data-html=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 onload=\"this.contentDocument.open();this.contentDocument.write(atob(this.getAttribute('data-html')));this.contentDocument.close();\" allowfullscreen webkitallowfullscreen mozallowfullscreen></iframe></div></div>"
            ],
            "text/plain": [
              "<folium.folium.Map at 0x7f2aedca14e0>"
            ]
          },
          "metadata": {
            "tags": []
          },
          "execution_count": 48
        }
      ]
    },
    {
      "cell_type": "markdown",
      "metadata": {
        "id": "BlynbkxW5vGd",
        "colab_type": "text"
      },
      "source": [
        "In abouve map Look at the blue buble, here we find out that it will locate about the santa crun-chembur link road. We can locate spot named 'Here it is'"
      ]
    },
    {
      "cell_type": "code",
      "metadata": {
        "id": "xl9RPMC2xajk",
        "colab_type": "code",
        "colab": {}
      },
      "source": [
        ""
      ],
      "execution_count": null,
      "outputs": []
    }
  ]
}